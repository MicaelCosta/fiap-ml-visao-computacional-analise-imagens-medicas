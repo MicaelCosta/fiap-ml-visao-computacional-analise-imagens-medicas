{
  "cells": [
    {
      "cell_type": "markdown",
      "metadata": {
        "id": "kjwA01UCVLbX"
      },
      "source": [
        "# MBA FIAP Inteligência Artificial & Machine Learning\n",
        "\n",
        "## Visão Computacional: Análise de Imagens Médicas\n",
        "\n",
        "> Atenção: este notebook foi desenhado para funcionar no **Google Collab**. Se pretende executar localmente prefira a versão local deste notebook, sem o sufixo ```-collab```.\n",
        "\n",
        "\n",
        "## 1. Introdução\n",
        "\n",
        "As tecnologias de imagens médicas estão cada vez mais integradas aos sitemas de visão computacional, incluindo as imagens de raio-x.\n",
        "\n",
        "Modelos de equipamentos modernos geram imagens digitais deste tipo de exame, proporcionando análises mais completas e menos _ad-hoc_, com isso algumas pré-análises podem ser realizadas por aplicações baseadas em inteligência artificial para confirmar ou sugerir diagnósticos ao profissional responsável pelo exame.\n",
        "\n",
        "No campo dos diagósticos por raios-x, a pnenumonia é uma das enfermidades onde seu uso é um dos mais aplicados para determinar o curso de tratamento.\n",
        "\n",
        "<p align=\"center\">\n",
        "    <img src=\"https://github.com/MicaelCosta/fiap-ml-visao-computacional-analise-imagens-medicas/blob/master/projeto-final/imagens/NORMAL2-IM-1422-0001.jpeg?raw=1\">\n",
        "</p>\n",
        "\n",
        "## 2. Instruções\n",
        "\n",
        "Este projeto final tem como objetivo explorar os conhecimentos adquiridos nas aulas práticas.\n",
        "\n",
        "Por meio de uma trilha guiada, iremos constuir um modelo que seja capaz de classificar imagens de raio-x para determinar se a determinada pessoa está com alguma condição que necessita maiores cuidados.\n",
        "\n",
        "De acordo com as imagens disponíveis para o treinamento e validação, será de critério do grupo selecionar as quantidades ideais ou até mesmo pré-processar as imagens para obter o melhor resultado, nos principais indicadores de performance, como precisão, sensibilidade e pontuação F1.\n",
        "\n",
        "Este projeto poderá ser feita por grupos de até 4 pessoas.\n",
        "Caso este projeto seja substitutivo, deverá ser realizado por apenas uma pessoa.\n",
        "\n",
        "| Nome dos Integrantes     | RM            | Turma |\n",
        "| :----------------------- | :------------- | :-----: |\n",
        "| KAROLYNE TAYNA DE CARVALHO FERREIRA             | RM 340494      | `20IA` |\n",
        "| MICAEL COSTA AMORIM             | RM 340401      | `20IA` |\n",
        "| RODRIGO ALBORNOZ FIGUEIREDO             | RM 340597      | `20IA` |\n",
        "| VINICIUS PEREIRA SEVERO             | RM 340384      | `20IA` |\n",
        "\n",
        "Por ser um projeto guiado, fique atento quando houver as marcações **Implementação** indica que é necessário realizar alguma implementação em Python no bloco a seguir onde há a inscrição ```##IMPLEMENTAR``` e **Resposta** indica que é esperado uma resposta objetiva relacionado a algum questionamento. \n",
        "\n",
        "**Cada grupo pode utilizar nas respostas objetivas quaisquer itens necessários que enriqueçam seu ponto vista, como gráficos, fotos e, até mesmo, trechos de código-fonte.**\n",
        "\n",
        "Pode-se utilizar quantos blocos forem necessários para realizar determinadas implementações ou utilizá-las para justificar as respostas. Não é obrigatório utilizar somente o bloco indicado.\n",
        "\n",
        "Ao final não se esqueça de subir os arquivos do projeto nas contas do GitHub de cada membro, ou subir na do representante do grupo e os membros realizarem o fork do projeto.\n",
        "\n",
        "A avaliação terá mais ênfase nos seguintes tópicos de desenvolvimento do projeto:\n",
        " \n",
        "1. __Pré-Processamento__\n",
        "2. __Classificação__\n",
        "3. __Performance__\n",
        "4. __Conclusões Finais__"
      ]
    },
    {
      "cell_type": "markdown",
      "metadata": {
        "id": "7Do9yNUjVLbn"
      },
      "source": [
        "## 3.1 Detalhe do problema: a pneunomia\n",
        "\n",
        "Fonte: [artigo](https://drauziovarella.uol.com.br/doencas-e-sintomas/pneumonia) do Dr. Drauzio Varella.\n",
        "\n",
        "Pneumonias são infecções que se instalam nos pulmões, órgãos duplos localizados um de cada lado da caixa torácica. Podem acometer a região dos alvéolos pulmonares onde desembocam as ramificações terminais dos brônquios e, às vezes, os interstícios (espaço entre um alvéolo e outro).\n",
        "\n",
        "Basicamente, pneumonia é provocada pela penetração de um agente infeccioso ou irritante (bactérias, vírus, fungos e por reações alérgicas) no espaço alveolar, onde ocorre a troca gasosa. Esse local deve estar sempre muito limpo, livre de substâncias que possam impedir o contato do ar com o sangue.\n",
        "\n",
        "Exame clínico, auscultação dos pulmões e radiografias de tórax são recursos essenciais para o diagnóstico de pneumonia.\n",
        "\n",
        "<p align=\"center\">\n",
        "    <img src=\"https://github.com/MicaelCosta/fiap-ml-visao-computacional-analise-imagens-medicas/blob/master/projeto-final/imagens/pneumonia.jpeg?raw=1\">\n",
        "</p>"
      ]
    },
    {
      "cell_type": "markdown",
      "metadata": {
        "id": "c1c8SfM3VLbp"
      },
      "source": [
        "## 3.2 Diagnóstico por raio-x"
      ]
    },
    {
      "cell_type": "markdown",
      "metadata": {
        "id": "q3zEnuPwVLbq"
      },
      "source": [
        "O exame de raio-x traz diferenças em cada tipo de diagnóstico, sendo considerado os seguintes grupos de análise: **normal** (ou controle) onde não há nenhuma condição de infeção, **bacterial pneumonia** (pneumonia bacteriana) que representa a condição de infecção bacteriana e **viral pneumonia** que indica a condição de infecção vira. "
      ]
    },
    {
      "cell_type": "markdown",
      "metadata": {
        "id": "H-GzFs2iVLbr"
      },
      "source": [
        "<p align=\"center\">\n",
        "<img src=\"https://github.com/MicaelCosta/fiap-ml-visao-computacional-analise-imagens-medicas/blob/master/projeto-final/imagens/raiox.png?raw=1\" height=\"60%\" width=\"60%\">\n",
        "</p>"
      ]
    },
    {
      "cell_type": "markdown",
      "metadata": {
        "id": "mgw7df8EVLbr"
      },
      "source": [
        "As imagens de controle não são mais brancas ao centro que é onde fica o coração. Já nas imagens com pneumonia é possível notar regiões brancas ao redor dos pulmões, que é como o exame identifica as secreções responsáveis pela infeçcão.\n",
        "\n",
        "Quando mais regiões brancas ao redor do pulmão mais severa é a inflamação e menos se observa dos detalhes dos pulmões, ficando um pouco esmaecido diante desta condição."
      ]
    },
    {
      "cell_type": "markdown",
      "metadata": {
        "id": "xVKYYdYvVLbs"
      },
      "source": [
        "## 4.1 Problema\n",
        "\n",
        "Construir um classificador utilizando _transfer learning_ para identificar as seguintes classes: **controle**, **pneumonia bacteriana** e **pneumonia viral**.\n",
        "\n",
        "Para construir este classificador, utilize o dataset do [Kaggle Chest Ray Pneumonia](https://www.kaggle.com/paultimothymooney/chest-xray-pneumonia) e organize os dados de forma a separar em cada uma das classes que já estão definidas no diretório ```raiox```, sendo ```controle``` para as imagens normais (sem inflamação), ```bacteria``` para as imagens de pneumonia bacteriana e ```viral``` para as imagens de pneumonia viral.\n",
        "\n",
        "Determine a quantidade de imagens a serem treinadas e validadas. Utiliza pelo menos, 100 imagens para cada classe.\n",
        "\n",
        "Compare os resultados com pelo menos 3 classificadores, obtendo os valores de **precisão (precision)**, **sensibilidade (recall)** e **pontuação F1 (F1 Score)**. No guia abaixo, foi indicado os seguintes modelos: ResNet50, VGG16 e VGG19. \n",
        "\n",
        ">Importante: a escolha do número de imagens devem ser o suficiente para alcançar o valor de **precisão** mínima de 70%.\n",
        "Note que as imagens de pneumonia bacteria e viral estão misturadas dentro da pasta ```PNEUMONIA```. É necessário separar as imagens manualmente tendo como base o sufixo. As imagens que terminal com ```_virus``` se referem a pneumoria viral e as que terminam com ```_bacteria``` se referem a pneumonia bacteriana.\n",
        "\n",
        "A construção do modelo será utilizada o framework Keras."
      ]
    },
    {
      "cell_type": "markdown",
      "metadata": {
        "id": "Ct7Pzc2RVLbu"
      },
      "source": [
        "**Pergunta**: Qual o número de imagens que foram selecionadas para cada classe?"
      ]
    },
    {
      "cell_type": "markdown",
      "metadata": {
        "id": "yWpjr10jVLbv"
      },
      "source": [
        "**Resposta**: Foram utilizadas 145 imagens para cada classe"
      ]
    },
    {
      "cell_type": "markdown",
      "metadata": {
        "id": "rfuo1k_cVLbw"
      },
      "source": [
        "## 4.2 Componentes obrigatórios\n",
        "\n",
        "Todas as bibliotecas já estão instaladas no Google Colab.\n",
        "\n",
        "* Keras\n",
        "* Tensorflow\n",
        "* Pillow\n",
        "* Matplotlib"
      ]
    },
    {
      "cell_type": "code",
      "execution_count": 74,
      "metadata": {
        "id": "hABsb52uVLbx"
      },
      "outputs": [],
      "source": [
        "import os\n",
        "\n",
        "import numpy as np\n",
        "import matplotlib.pyplot as plt\n",
        "from PIL import Image\n",
        "\n",
        "from os import listdir\n",
        "from os.path import join, isdir, sep\n",
        "\n",
        "from imutils import paths\n",
        "\n",
        "from tqdm import tqdm\n",
        "\n",
        "import cv2\n",
        "\n",
        "%matplotlib inline\n",
        "\n",
        "from tensorflow.keras.models import Sequential, load_model, model_from_json\n",
        "from tensorflow.keras.layers import Dense, Conv2D, Dropout, Flatten, MaxPooling2D, Activation\n",
        "from tensorflow.keras.preprocessing.image import ImageDataGenerator\n",
        "from tensorflow.keras.applications import VGG16, ResNet50, VGG19, Xception\n",
        "from tensorflow.keras.applications.vgg16 import preprocess_input\n",
        "from tensorflow.keras import Model, layers\n",
        "from tensorflow.keras import optimizers\n",
        "\n",
        "import tensorflow.keras.backend as K"
      ]
    },
    {
      "cell_type": "markdown",
      "metadata": {
        "id": "uIfb1dplVLby"
      },
      "source": [
        "## 4.3 Carregando imagens de treinamento e validação\n",
        "\n",
        "Selecione a melhor divisão entre dados de treinamento e validação. O número deverá ser representado em número fracionário, 5% equivale a 0.05, por exemplo."
      ]
    },
    {
      "cell_type": "markdown",
      "metadata": {
        "id": "orYUjaARVLbz"
      },
      "source": [
        "> Você pode _montar_ o drive do Google Drive se precisar e quiser armazenar as imagens nesta plataforma. Como o Colab é efêmero, se você copiar os arquivos para o ambiente eles serão apagados depois do fim da sessão. Acesse [esta](https://medium.com/@maxwellcsm/colaboratory-acessando-os-arquivos-do-google-drive-d08ef9157dbf) referência para saber mais como o recurso funciona, inclusive recomenda-se essa abordagem de montar o próprio Google Drive.\n",
        "\n",
        "Se não for utilizar o Google Drive, crie as pastas que serão utilizadas para armazenar as imagens."
      ]
    },
    {
      "cell_type": "markdown",
      "metadata": {
        "id": "DqQ0pXmDVLbz"
      },
      "source": [
        "### 4.3.1 Utilizando Google Drive\n",
        "\n",
        "Se usar o Google Drive para armazenar as imagens utilize o comando abaixo para montar seu drive.\n",
        "Você pode navegar pelas pastas pelo painel ao lado."
      ]
    },
    {
      "cell_type": "code",
      "execution_count": null,
      "metadata": {
        "id": "vLbDQYblVLb0"
      },
      "outputs": [],
      "source": [
        "from google.colab import drive\n",
        "drive.mount('/content/drive')"
      ]
    },
    {
      "cell_type": "markdown",
      "metadata": {
        "id": "K0M5mturVLb0"
      },
      "source": [
        "### 4.3.2 Utilizando o armazenamento efêmero\n",
        "\n",
        "Se optar pelo armazenamento efêmero você precisa enviar os arquivos de imagens (arrastar e soltar) para as pastas que deverão ser criadas pelo comando a seguir."
      ]
    },
    {
      "cell_type": "code",
      "execution_count": null,
      "metadata": {
        "id": "1VPFF50aVLb1"
      },
      "outputs": [],
      "source": [
        "!mkdir raiox/\n",
        "!mkdir raiox/normal\n",
        "!mkdir raiox/pneumonia_bacteriana\n",
        "!mkdir raiox/pneumonia_viral"
      ]
    },
    {
      "cell_type": "markdown",
      "source": [
        "###4.3.2 Recupera as imagens vindas do gitHub"
      ],
      "metadata": {
        "id": "oezhHEAmlD-2"
      }
    },
    {
      "cell_type": "code",
      "source": [
        "!rm -rf fiap-ml-visao-computacional-analise-imagens-medicas/"
      ],
      "metadata": {
        "id": "7KNdu6r6k7Zb"
      },
      "execution_count": 2,
      "outputs": []
    },
    {
      "cell_type": "code",
      "source": [
        "!git clone https://github.com/MicaelCosta/fiap-ml-visao-computacional-analise-imagens-medicas.git"
      ],
      "metadata": {
        "id": "i913SaKwlQX1",
        "colab": {
          "base_uri": "https://localhost:8080/"
        },
        "outputId": "9dacf7d5-2bdc-4652-8c7c-836fe648d412"
      },
      "execution_count": 3,
      "outputs": [
        {
          "output_type": "stream",
          "name": "stdout",
          "text": [
            "Cloning into 'fiap-ml-visao-computacional-analise-imagens-medicas'...\n",
            "remote: Enumerating objects: 519, done.\u001b[K\n",
            "remote: Counting objects: 100% (13/13), done.\u001b[K\n",
            "remote: Compressing objects: 100% (11/11), done.\u001b[K\n",
            "remote: Total 519 (delta 3), reused 12 (delta 2), pack-reused 506\u001b[K\n",
            "Receiving objects: 100% (519/519), 52.71 MiB | 29.18 MiB/s, done.\n",
            "Resolving deltas: 100% (34/34), done.\n"
          ]
        }
      ]
    },
    {
      "cell_type": "code",
      "source": [
        "%cd fiap-ml-visao-computacional-analise-imagens-medicas/projeto-final/"
      ],
      "metadata": {
        "id": "hpUd9Pz8lYaG",
        "colab": {
          "base_uri": "https://localhost:8080/"
        },
        "outputId": "0f9a2b49-2f27-4df3-faf8-52581fb11257"
      },
      "execution_count": 4,
      "outputs": [
        {
          "output_type": "stream",
          "name": "stdout",
          "text": [
            "/content/fiap-ml-visao-computacional-analise-imagens-medicas/projeto-final\n"
          ]
        }
      ]
    },
    {
      "cell_type": "markdown",
      "metadata": {
        "id": "QSDQJlC5VLb1"
      },
      "source": [
        "Defina o nome da pasta onde contém as sub-pastas referente aos 3 tipos de classe. Se optar pelo armazenamento efêmero a pasta será ```raiox```. Se optar pelo Goolge Drive, indique o caminho da pasta."
      ]
    },
    {
      "cell_type": "code",
      "source": [
        "pasta_imagens = \"raiox/\"\n",
        "lista_arquivos_classes = [f for f in listdir(pasta_imagens) if isdir(join(pasta_imagens, f))]\n",
        "\n",
        "lista_classes = list(set(lista_arquivos_classes))\n",
        "print(lista_classes)\n",
        "print(len(lista_classes))"
      ],
      "metadata": {
        "id": "9jAvaX-qmkoq",
        "colab": {
          "base_uri": "https://localhost:8080/"
        },
        "outputId": "f706f682-91f1-4e21-9ad2-85d558cb709f"
      },
      "execution_count": 79,
      "outputs": [
        {
          "output_type": "stream",
          "name": "stdout",
          "text": [
            "['viral', 'controle', 'bacteria']\n",
            "3\n"
          ]
        }
      ]
    },
    {
      "cell_type": "markdown",
      "source": [
        "###4.3.3 Normalização das imagens"
      ],
      "metadata": {
        "id": "aQbSIXeOAaam"
      }
    },
    {
      "cell_type": "code",
      "source": [
        "def imagem_normalizada(caminho_imagem):\n",
        "    #Importa imagem em gray scale\n",
        "    imagem_gray = cv2.imread(caminho_imagem, cv2.IMREAD_GRAYSCALE)\n",
        "    \n",
        "    #Suavização para remoção de ruído\n",
        "    imagem_suavizada = cv2.GaussianBlur(imagem_gray, (5, 5), 0)\n",
        "\n",
        "    #Limiarização para remover todos os ruídos baseado num valor de limiar\n",
        "    _, imagem_limiarizada =  cv2.threshold(imagem_suavizada, 148, 255, cv2.THRESH_BINARY_INV)\n",
        "\n",
        "    #Inversão para nitidez da imagem\n",
        "    _, imagem_limiarizada =  cv2.threshold(imagem_limiarizada, 0, 255, cv2.THRESH_BINARY_INV + cv2.THRESH_OTSU)\n",
        "    \n",
        "    #Erosão para intersificar as linhas e melhorar a nitidez\n",
        "    kernel = np.ones((2, 2), np.uint8)\n",
        "    imagem_erodida = cv2.erode(imagem_limiarizada, kernel, iterations = 2)\n",
        "\n",
        "    return imagem_erodida"
      ],
      "metadata": {
        "id": "friFgBDE9Utj"
      },
      "execution_count": 95,
      "outputs": []
    },
    {
      "cell_type": "code",
      "source": [
        "!mkdir raiox_norm\n",
        "!mkdir raiox_norm/controle\n",
        "!mkdir raiox_norm/bacteria\n",
        "!mkdir raiox_norm/viral"
      ],
      "metadata": {
        "id": "EmM64IaxHI8y"
      },
      "execution_count": 106,
      "outputs": []
    },
    {
      "cell_type": "code",
      "source": [
        "for classe in lista_classes:\n",
        "  lista_imagens_arquivos = paths.list_images(pasta_imagens + \"/\" + classe)\n",
        "  for imagem_caminho in tqdm(lista_imagens_arquivos):\n",
        "    #Imagem normalizada\n",
        "    imagem_norm = imagem_normalizada(imagem_caminho)\n",
        "\n",
        "    #Recupera nome da imagem\n",
        "    image_name = imagem_caminho.split(sep)[-1]\n",
        "\n",
        "    #Monta o novo path para salvar\n",
        "    path_new_images = \"raiox_norm/\" + classe + \"/\" + image_name\n",
        "\n",
        "    #Salva imagem normalizada em um nova pasta\n",
        "    cv2.imwrite(path_new_images, imagem_norm)"
      ],
      "metadata": {
        "colab": {
          "base_uri": "https://localhost:8080/"
        },
        "id": "vWOOOpRq69ZY",
        "outputId": "4175ee49-98fb-4c96-a539-3fc917134245"
      },
      "execution_count": 108,
      "outputs": [
        {
          "output_type": "stream",
          "name": "stderr",
          "text": [
            "145it [00:02, 51.57it/s]\n",
            "145it [00:06, 21.52it/s]\n",
            "145it [00:02, 70.21it/s]\n"
          ]
        }
      ]
    },
    {
      "cell_type": "code",
      "execution_count": 110,
      "metadata": {
        "id": "XzsKHve0VLb2"
      },
      "outputs": [],
      "source": [
        "divisao_treino_validacao = 0.3\n",
        "nome_pasta_raiz_imagens = \"raiox_norm\""
      ]
    },
    {
      "cell_type": "markdown",
      "metadata": {
        "id": "JXCHOOkzVLb2"
      },
      "source": [
        "O caminho abaixo da pasta ```raiox``` pode ser alterado caso você opte por utilizar uma pasta específica do seu Google Drive. Neste caso, certifique que dentro delas tem as sub-pastas referentes as imagens normal, pneumonia bacteriana e viral."
      ]
    },
    {
      "cell_type": "code",
      "execution_count": 111,
      "metadata": {
        "id": "ohuNa2_dVLb3",
        "colab": {
          "base_uri": "https://localhost:8080/"
        },
        "outputId": "8a32089d-b67a-41f8-af8b-7e49202eff2a"
      },
      "outputs": [
        {
          "output_type": "stream",
          "name": "stdout",
          "text": [
            "Found 306 images belonging to 3 classes.\n"
          ]
        }
      ],
      "source": [
        "train_datagen = ImageDataGenerator(validation_split=divisao_treino_validacao)\n",
        "\n",
        "train_generator = train_datagen.flow_from_directory(\n",
        "    nome_pasta_raiz_imagens,\n",
        "    batch_size=32,\n",
        "    class_mode=\"categorical\",\n",
        "    color_mode=\"rgb\",\n",
        "    target_size=(224,224),\n",
        "    subset=\"training\")"
      ]
    },
    {
      "cell_type": "code",
      "execution_count": 112,
      "metadata": {
        "id": "6yONZzBtVLb3",
        "colab": {
          "base_uri": "https://localhost:8080/"
        },
        "outputId": "7e7eec96-5937-4dc7-b383-5be1607be486"
      },
      "outputs": [
        {
          "output_type": "stream",
          "name": "stdout",
          "text": [
            "Found 129 images belonging to 3 classes.\n"
          ]
        }
      ],
      "source": [
        "val_generator = train_datagen.flow_from_directory(\n",
        "    nome_pasta_raiz_imagens,\n",
        "    batch_size=32,\n",
        "    class_mode=\"categorical\",\n",
        "    color_mode=\"rgb\",\n",
        "    target_size=(224,224),\n",
        "    subset=\"validation\")"
      ]
    },
    {
      "cell_type": "code",
      "execution_count": 113,
      "metadata": {
        "id": "71ff_c_vVLb4",
        "colab": {
          "base_uri": "https://localhost:8080/"
        },
        "outputId": "639a1bc3-029d-438c-f713-db7e09056f22"
      },
      "outputs": [
        {
          "output_type": "execute_result",
          "data": {
            "text/plain": [
              "({'bacteria': 0, 'controle': 1, 'viral': 2},\n",
              " {'bacteria': 0, 'controle': 1, 'viral': 2})"
            ]
          },
          "metadata": {},
          "execution_count": 113
        }
      ],
      "source": [
        "train_generator.class_indices, val_generator.class_indices"
      ]
    },
    {
      "cell_type": "markdown",
      "metadata": {
        "id": "JBEoVx8vVLb5"
      },
      "source": [
        "## 4.4 Modelos de transfer learning\n",
        "\n",
        "O Keras já possui classes especializadas para os seguintes modelos de deep-learning treinados com o conjunto de dados [ImageNet](http://www.image-net.org/):\n",
        "  \n",
        "* Xception\n",
        "* VGG16\n",
        "* VGG19\n",
        "* ResNet50\n",
        "* InceptionV3\n",
        "* InceptionResNetV2\n",
        "* MobileNet\n",
        "* DenseNet\n",
        "* NASNet\n",
        "* MobileNetV2\n",
        "\n",
        "Mais detalhes, veja na [documentação do Keras](https://keras.io/applications/)."
      ]
    },
    {
      "cell_type": "markdown",
      "metadata": {
        "id": "X-P9iUI4VLb5"
      },
      "source": [
        "Para este estudo, vamos utilizar para avaliação as seguintes arquiteturas: RestNet50, VGG15 e VGG19."
      ]
    },
    {
      "cell_type": "markdown",
      "metadata": {
        "id": "MHZ6nj4FVLb6"
      },
      "source": [
        "## 4.5 Indicadores de desempenho\n",
        "\n",
        "O Keras não possui os indicadores de desempenho como precisão, sensibilidade e pontuação f1 por padrão, portanto precisamos implementar externamente."
      ]
    },
    {
      "cell_type": "code",
      "execution_count": 114,
      "metadata": {
        "id": "jeOvE-cmVLb6"
      },
      "outputs": [],
      "source": [
        "def recall_score(y_true, y_pred):\n",
        "    true_positives = K.sum(K.round(K.clip(y_true * y_pred, 0, 1)))\n",
        "    possible_positives = K.sum(K.round(K.clip(y_true, 0, 1)))\n",
        "    recall = true_positives / (possible_positives + K.epsilon())\n",
        "    return recall\n",
        "\n",
        "def precision_score(y_true, y_pred):\n",
        "    true_positives = K.sum(K.round(K.clip(y_true * y_pred, 0, 1)))\n",
        "    predicted_positives = K.sum(K.round(K.clip(y_pred, 0, 1)))\n",
        "    precision = true_positives / (predicted_positives + K.epsilon())\n",
        "    return precision\n",
        "\n",
        "def f1_score(y_true, y_pred):\n",
        "    precision = precision_score(y_true, y_pred)\n",
        "    recall = recall_score(y_true, y_pred)\n",
        "    return 2*((precision*recall)/(precision+recall+K.epsilon()))"
      ]
    },
    {
      "cell_type": "markdown",
      "metadata": {
        "id": "6VHOUKHVVLb6"
      },
      "source": [
        "### 4.5.1 Arquitetura ResNet50"
      ]
    },
    {
      "cell_type": "markdown",
      "metadata": {
        "id": "Uvcio21oVLb7"
      },
      "source": [
        "**Pergunta**: Explique como é constituída a arquitetura do ResNet50? *Utilize, se necessário, gráficos, projetos que utilizam essa arquitetura. Detalhe também sua topologia em camadas e mostre quais as situações essa arquitetura pode ter mais êxito e quais cenários não tem.*"
      ]
    },
    {
      "cell_type": "markdown",
      "metadata": {
        "id": "mShyn9acVLb7"
      },
      "source": [
        "**Resposta**:"
      ]
    },
    {
      "cell_type": "markdown",
      "metadata": {
        "id": "HJ5qL__MVLb7"
      },
      "source": [
        "A técnica de transfer learning consiste de utilizar o mesmo modelo e treiná-lo para outas imagens. Por tal motivo, excluímos a última camada para modelar com as classes que definimos, ou seja, **controle**, **bacteriana** e **viral**."
      ]
    },
    {
      "cell_type": "markdown",
      "metadata": {
        "id": "jmbSRvfxVLb7"
      },
      "source": [
        "Informe a quantidade de classes a serem classificadas."
      ]
    },
    {
      "cell_type": "code",
      "execution_count": 115,
      "metadata": {
        "id": "n_lMUyQqVLb8"
      },
      "outputs": [],
      "source": [
        "qtde_classes = len(lista_classes)"
      ]
    },
    {
      "cell_type": "code",
      "execution_count": 116,
      "metadata": {
        "id": "PZ642JzrVLb8"
      },
      "outputs": [],
      "source": [
        "conv_base = ResNet50(include_top=False)\n",
        "\n",
        "for layer in conv_base.layers:\n",
        "    layer.trainable = False"
      ]
    },
    {
      "cell_type": "code",
      "execution_count": 117,
      "metadata": {
        "id": "jokv0kHMVLb9",
        "colab": {
          "base_uri": "https://localhost:8080/"
        },
        "outputId": "69d05278-c968-49dc-98f0-8766dc6857d0"
      },
      "outputs": [
        {
          "output_type": "stream",
          "name": "stdout",
          "text": [
            "Model: \"model_4\"\n",
            "__________________________________________________________________________________________________\n",
            " Layer (type)                   Output Shape         Param #     Connected to                     \n",
            "==================================================================================================\n",
            " input_5 (InputLayer)           [(None, None, None,  0           []                               \n",
            "                                 3)]                                                              \n",
            "                                                                                                  \n",
            " conv1_pad (ZeroPadding2D)      (None, None, None,   0           ['input_5[0][0]']                \n",
            "                                3)                                                                \n",
            "                                                                                                  \n",
            " conv1_conv (Conv2D)            (None, None, None,   9472        ['conv1_pad[0][0]']              \n",
            "                                64)                                                               \n",
            "                                                                                                  \n",
            " conv1_bn (BatchNormalization)  (None, None, None,   256         ['conv1_conv[0][0]']             \n",
            "                                64)                                                               \n",
            "                                                                                                  \n",
            " conv1_relu (Activation)        (None, None, None,   0           ['conv1_bn[0][0]']               \n",
            "                                64)                                                               \n",
            "                                                                                                  \n",
            " pool1_pad (ZeroPadding2D)      (None, None, None,   0           ['conv1_relu[0][0]']             \n",
            "                                64)                                                               \n",
            "                                                                                                  \n",
            " pool1_pool (MaxPooling2D)      (None, None, None,   0           ['pool1_pad[0][0]']              \n",
            "                                64)                                                               \n",
            "                                                                                                  \n",
            " conv2_block1_1_conv (Conv2D)   (None, None, None,   4160        ['pool1_pool[0][0]']             \n",
            "                                64)                                                               \n",
            "                                                                                                  \n",
            " conv2_block1_1_bn (BatchNormal  (None, None, None,   256        ['conv2_block1_1_conv[0][0]']    \n",
            " ization)                       64)                                                               \n",
            "                                                                                                  \n",
            " conv2_block1_1_relu (Activatio  (None, None, None,   0          ['conv2_block1_1_bn[0][0]']      \n",
            " n)                             64)                                                               \n",
            "                                                                                                  \n",
            " conv2_block1_2_conv (Conv2D)   (None, None, None,   36928       ['conv2_block1_1_relu[0][0]']    \n",
            "                                64)                                                               \n",
            "                                                                                                  \n",
            " conv2_block1_2_bn (BatchNormal  (None, None, None,   256        ['conv2_block1_2_conv[0][0]']    \n",
            " ization)                       64)                                                               \n",
            "                                                                                                  \n",
            " conv2_block1_2_relu (Activatio  (None, None, None,   0          ['conv2_block1_2_bn[0][0]']      \n",
            " n)                             64)                                                               \n",
            "                                                                                                  \n",
            " conv2_block1_0_conv (Conv2D)   (None, None, None,   16640       ['pool1_pool[0][0]']             \n",
            "                                256)                                                              \n",
            "                                                                                                  \n",
            " conv2_block1_3_conv (Conv2D)   (None, None, None,   16640       ['conv2_block1_2_relu[0][0]']    \n",
            "                                256)                                                              \n",
            "                                                                                                  \n",
            " conv2_block1_0_bn (BatchNormal  (None, None, None,   1024       ['conv2_block1_0_conv[0][0]']    \n",
            " ization)                       256)                                                              \n",
            "                                                                                                  \n",
            " conv2_block1_3_bn (BatchNormal  (None, None, None,   1024       ['conv2_block1_3_conv[0][0]']    \n",
            " ization)                       256)                                                              \n",
            "                                                                                                  \n",
            " conv2_block1_add (Add)         (None, None, None,   0           ['conv2_block1_0_bn[0][0]',      \n",
            "                                256)                              'conv2_block1_3_bn[0][0]']      \n",
            "                                                                                                  \n",
            " conv2_block1_out (Activation)  (None, None, None,   0           ['conv2_block1_add[0][0]']       \n",
            "                                256)                                                              \n",
            "                                                                                                  \n",
            " conv2_block2_1_conv (Conv2D)   (None, None, None,   16448       ['conv2_block1_out[0][0]']       \n",
            "                                64)                                                               \n",
            "                                                                                                  \n",
            " conv2_block2_1_bn (BatchNormal  (None, None, None,   256        ['conv2_block2_1_conv[0][0]']    \n",
            " ization)                       64)                                                               \n",
            "                                                                                                  \n",
            " conv2_block2_1_relu (Activatio  (None, None, None,   0          ['conv2_block2_1_bn[0][0]']      \n",
            " n)                             64)                                                               \n",
            "                                                                                                  \n",
            " conv2_block2_2_conv (Conv2D)   (None, None, None,   36928       ['conv2_block2_1_relu[0][0]']    \n",
            "                                64)                                                               \n",
            "                                                                                                  \n",
            " conv2_block2_2_bn (BatchNormal  (None, None, None,   256        ['conv2_block2_2_conv[0][0]']    \n",
            " ization)                       64)                                                               \n",
            "                                                                                                  \n",
            " conv2_block2_2_relu (Activatio  (None, None, None,   0          ['conv2_block2_2_bn[0][0]']      \n",
            " n)                             64)                                                               \n",
            "                                                                                                  \n",
            " conv2_block2_3_conv (Conv2D)   (None, None, None,   16640       ['conv2_block2_2_relu[0][0]']    \n",
            "                                256)                                                              \n",
            "                                                                                                  \n",
            " conv2_block2_3_bn (BatchNormal  (None, None, None,   1024       ['conv2_block2_3_conv[0][0]']    \n",
            " ization)                       256)                                                              \n",
            "                                                                                                  \n",
            " conv2_block2_add (Add)         (None, None, None,   0           ['conv2_block1_out[0][0]',       \n",
            "                                256)                              'conv2_block2_3_bn[0][0]']      \n",
            "                                                                                                  \n",
            " conv2_block2_out (Activation)  (None, None, None,   0           ['conv2_block2_add[0][0]']       \n",
            "                                256)                                                              \n",
            "                                                                                                  \n",
            " conv2_block3_1_conv (Conv2D)   (None, None, None,   16448       ['conv2_block2_out[0][0]']       \n",
            "                                64)                                                               \n",
            "                                                                                                  \n",
            " conv2_block3_1_bn (BatchNormal  (None, None, None,   256        ['conv2_block3_1_conv[0][0]']    \n",
            " ization)                       64)                                                               \n",
            "                                                                                                  \n",
            " conv2_block3_1_relu (Activatio  (None, None, None,   0          ['conv2_block3_1_bn[0][0]']      \n",
            " n)                             64)                                                               \n",
            "                                                                                                  \n",
            " conv2_block3_2_conv (Conv2D)   (None, None, None,   36928       ['conv2_block3_1_relu[0][0]']    \n",
            "                                64)                                                               \n",
            "                                                                                                  \n",
            " conv2_block3_2_bn (BatchNormal  (None, None, None,   256        ['conv2_block3_2_conv[0][0]']    \n",
            " ization)                       64)                                                               \n",
            "                                                                                                  \n",
            " conv2_block3_2_relu (Activatio  (None, None, None,   0          ['conv2_block3_2_bn[0][0]']      \n",
            " n)                             64)                                                               \n",
            "                                                                                                  \n",
            " conv2_block3_3_conv (Conv2D)   (None, None, None,   16640       ['conv2_block3_2_relu[0][0]']    \n",
            "                                256)                                                              \n",
            "                                                                                                  \n",
            " conv2_block3_3_bn (BatchNormal  (None, None, None,   1024       ['conv2_block3_3_conv[0][0]']    \n",
            " ization)                       256)                                                              \n",
            "                                                                                                  \n",
            " conv2_block3_add (Add)         (None, None, None,   0           ['conv2_block2_out[0][0]',       \n",
            "                                256)                              'conv2_block3_3_bn[0][0]']      \n",
            "                                                                                                  \n",
            " conv2_block3_out (Activation)  (None, None, None,   0           ['conv2_block3_add[0][0]']       \n",
            "                                256)                                                              \n",
            "                                                                                                  \n",
            " conv3_block1_1_conv (Conv2D)   (None, None, None,   32896       ['conv2_block3_out[0][0]']       \n",
            "                                128)                                                              \n",
            "                                                                                                  \n",
            " conv3_block1_1_bn (BatchNormal  (None, None, None,   512        ['conv3_block1_1_conv[0][0]']    \n",
            " ization)                       128)                                                              \n",
            "                                                                                                  \n",
            " conv3_block1_1_relu (Activatio  (None, None, None,   0          ['conv3_block1_1_bn[0][0]']      \n",
            " n)                             128)                                                              \n",
            "                                                                                                  \n",
            " conv3_block1_2_conv (Conv2D)   (None, None, None,   147584      ['conv3_block1_1_relu[0][0]']    \n",
            "                                128)                                                              \n",
            "                                                                                                  \n",
            " conv3_block1_2_bn (BatchNormal  (None, None, None,   512        ['conv3_block1_2_conv[0][0]']    \n",
            " ization)                       128)                                                              \n",
            "                                                                                                  \n",
            " conv3_block1_2_relu (Activatio  (None, None, None,   0          ['conv3_block1_2_bn[0][0]']      \n",
            " n)                             128)                                                              \n",
            "                                                                                                  \n",
            " conv3_block1_0_conv (Conv2D)   (None, None, None,   131584      ['conv2_block3_out[0][0]']       \n",
            "                                512)                                                              \n",
            "                                                                                                  \n",
            " conv3_block1_3_conv (Conv2D)   (None, None, None,   66048       ['conv3_block1_2_relu[0][0]']    \n",
            "                                512)                                                              \n",
            "                                                                                                  \n",
            " conv3_block1_0_bn (BatchNormal  (None, None, None,   2048       ['conv3_block1_0_conv[0][0]']    \n",
            " ization)                       512)                                                              \n",
            "                                                                                                  \n",
            " conv3_block1_3_bn (BatchNormal  (None, None, None,   2048       ['conv3_block1_3_conv[0][0]']    \n",
            " ization)                       512)                                                              \n",
            "                                                                                                  \n",
            " conv3_block1_add (Add)         (None, None, None,   0           ['conv3_block1_0_bn[0][0]',      \n",
            "                                512)                              'conv3_block1_3_bn[0][0]']      \n",
            "                                                                                                  \n",
            " conv3_block1_out (Activation)  (None, None, None,   0           ['conv3_block1_add[0][0]']       \n",
            "                                512)                                                              \n",
            "                                                                                                  \n",
            " conv3_block2_1_conv (Conv2D)   (None, None, None,   65664       ['conv3_block1_out[0][0]']       \n",
            "                                128)                                                              \n",
            "                                                                                                  \n",
            " conv3_block2_1_bn (BatchNormal  (None, None, None,   512        ['conv3_block2_1_conv[0][0]']    \n",
            " ization)                       128)                                                              \n",
            "                                                                                                  \n",
            " conv3_block2_1_relu (Activatio  (None, None, None,   0          ['conv3_block2_1_bn[0][0]']      \n",
            " n)                             128)                                                              \n",
            "                                                                                                  \n",
            " conv3_block2_2_conv (Conv2D)   (None, None, None,   147584      ['conv3_block2_1_relu[0][0]']    \n",
            "                                128)                                                              \n",
            "                                                                                                  \n",
            " conv3_block2_2_bn (BatchNormal  (None, None, None,   512        ['conv3_block2_2_conv[0][0]']    \n",
            " ization)                       128)                                                              \n",
            "                                                                                                  \n",
            " conv3_block2_2_relu (Activatio  (None, None, None,   0          ['conv3_block2_2_bn[0][0]']      \n",
            " n)                             128)                                                              \n",
            "                                                                                                  \n",
            " conv3_block2_3_conv (Conv2D)   (None, None, None,   66048       ['conv3_block2_2_relu[0][0]']    \n",
            "                                512)                                                              \n",
            "                                                                                                  \n",
            " conv3_block2_3_bn (BatchNormal  (None, None, None,   2048       ['conv3_block2_3_conv[0][0]']    \n",
            " ization)                       512)                                                              \n",
            "                                                                                                  \n",
            " conv3_block2_add (Add)         (None, None, None,   0           ['conv3_block1_out[0][0]',       \n",
            "                                512)                              'conv3_block2_3_bn[0][0]']      \n",
            "                                                                                                  \n",
            " conv3_block2_out (Activation)  (None, None, None,   0           ['conv3_block2_add[0][0]']       \n",
            "                                512)                                                              \n",
            "                                                                                                  \n",
            " conv3_block3_1_conv (Conv2D)   (None, None, None,   65664       ['conv3_block2_out[0][0]']       \n",
            "                                128)                                                              \n",
            "                                                                                                  \n",
            " conv3_block3_1_bn (BatchNormal  (None, None, None,   512        ['conv3_block3_1_conv[0][0]']    \n",
            " ization)                       128)                                                              \n",
            "                                                                                                  \n",
            " conv3_block3_1_relu (Activatio  (None, None, None,   0          ['conv3_block3_1_bn[0][0]']      \n",
            " n)                             128)                                                              \n",
            "                                                                                                  \n",
            " conv3_block3_2_conv (Conv2D)   (None, None, None,   147584      ['conv3_block3_1_relu[0][0]']    \n",
            "                                128)                                                              \n",
            "                                                                                                  \n",
            " conv3_block3_2_bn (BatchNormal  (None, None, None,   512        ['conv3_block3_2_conv[0][0]']    \n",
            " ization)                       128)                                                              \n",
            "                                                                                                  \n",
            " conv3_block3_2_relu (Activatio  (None, None, None,   0          ['conv3_block3_2_bn[0][0]']      \n",
            " n)                             128)                                                              \n",
            "                                                                                                  \n",
            " conv3_block3_3_conv (Conv2D)   (None, None, None,   66048       ['conv3_block3_2_relu[0][0]']    \n",
            "                                512)                                                              \n",
            "                                                                                                  \n",
            " conv3_block3_3_bn (BatchNormal  (None, None, None,   2048       ['conv3_block3_3_conv[0][0]']    \n",
            " ization)                       512)                                                              \n",
            "                                                                                                  \n",
            " conv3_block3_add (Add)         (None, None, None,   0           ['conv3_block2_out[0][0]',       \n",
            "                                512)                              'conv3_block3_3_bn[0][0]']      \n",
            "                                                                                                  \n",
            " conv3_block3_out (Activation)  (None, None, None,   0           ['conv3_block3_add[0][0]']       \n",
            "                                512)                                                              \n",
            "                                                                                                  \n",
            " conv3_block4_1_conv (Conv2D)   (None, None, None,   65664       ['conv3_block3_out[0][0]']       \n",
            "                                128)                                                              \n",
            "                                                                                                  \n",
            " conv3_block4_1_bn (BatchNormal  (None, None, None,   512        ['conv3_block4_1_conv[0][0]']    \n",
            " ization)                       128)                                                              \n",
            "                                                                                                  \n",
            " conv3_block4_1_relu (Activatio  (None, None, None,   0          ['conv3_block4_1_bn[0][0]']      \n",
            " n)                             128)                                                              \n",
            "                                                                                                  \n",
            " conv3_block4_2_conv (Conv2D)   (None, None, None,   147584      ['conv3_block4_1_relu[0][0]']    \n",
            "                                128)                                                              \n",
            "                                                                                                  \n",
            " conv3_block4_2_bn (BatchNormal  (None, None, None,   512        ['conv3_block4_2_conv[0][0]']    \n",
            " ization)                       128)                                                              \n",
            "                                                                                                  \n",
            " conv3_block4_2_relu (Activatio  (None, None, None,   0          ['conv3_block4_2_bn[0][0]']      \n",
            " n)                             128)                                                              \n",
            "                                                                                                  \n",
            " conv3_block4_3_conv (Conv2D)   (None, None, None,   66048       ['conv3_block4_2_relu[0][0]']    \n",
            "                                512)                                                              \n",
            "                                                                                                  \n",
            " conv3_block4_3_bn (BatchNormal  (None, None, None,   2048       ['conv3_block4_3_conv[0][0]']    \n",
            " ization)                       512)                                                              \n",
            "                                                                                                  \n",
            " conv3_block4_add (Add)         (None, None, None,   0           ['conv3_block3_out[0][0]',       \n",
            "                                512)                              'conv3_block4_3_bn[0][0]']      \n",
            "                                                                                                  \n",
            " conv3_block4_out (Activation)  (None, None, None,   0           ['conv3_block4_add[0][0]']       \n",
            "                                512)                                                              \n",
            "                                                                                                  \n",
            " conv4_block1_1_conv (Conv2D)   (None, None, None,   131328      ['conv3_block4_out[0][0]']       \n",
            "                                256)                                                              \n",
            "                                                                                                  \n",
            " conv4_block1_1_bn (BatchNormal  (None, None, None,   1024       ['conv4_block1_1_conv[0][0]']    \n",
            " ization)                       256)                                                              \n",
            "                                                                                                  \n",
            " conv4_block1_1_relu (Activatio  (None, None, None,   0          ['conv4_block1_1_bn[0][0]']      \n",
            " n)                             256)                                                              \n",
            "                                                                                                  \n",
            " conv4_block1_2_conv (Conv2D)   (None, None, None,   590080      ['conv4_block1_1_relu[0][0]']    \n",
            "                                256)                                                              \n",
            "                                                                                                  \n",
            " conv4_block1_2_bn (BatchNormal  (None, None, None,   1024       ['conv4_block1_2_conv[0][0]']    \n",
            " ization)                       256)                                                              \n",
            "                                                                                                  \n",
            " conv4_block1_2_relu (Activatio  (None, None, None,   0          ['conv4_block1_2_bn[0][0]']      \n",
            " n)                             256)                                                              \n",
            "                                                                                                  \n",
            " conv4_block1_0_conv (Conv2D)   (None, None, None,   525312      ['conv3_block4_out[0][0]']       \n",
            "                                1024)                                                             \n",
            "                                                                                                  \n",
            " conv4_block1_3_conv (Conv2D)   (None, None, None,   263168      ['conv4_block1_2_relu[0][0]']    \n",
            "                                1024)                                                             \n",
            "                                                                                                  \n",
            " conv4_block1_0_bn (BatchNormal  (None, None, None,   4096       ['conv4_block1_0_conv[0][0]']    \n",
            " ization)                       1024)                                                             \n",
            "                                                                                                  \n",
            " conv4_block1_3_bn (BatchNormal  (None, None, None,   4096       ['conv4_block1_3_conv[0][0]']    \n",
            " ization)                       1024)                                                             \n",
            "                                                                                                  \n",
            " conv4_block1_add (Add)         (None, None, None,   0           ['conv4_block1_0_bn[0][0]',      \n",
            "                                1024)                             'conv4_block1_3_bn[0][0]']      \n",
            "                                                                                                  \n",
            " conv4_block1_out (Activation)  (None, None, None,   0           ['conv4_block1_add[0][0]']       \n",
            "                                1024)                                                             \n",
            "                                                                                                  \n",
            " conv4_block2_1_conv (Conv2D)   (None, None, None,   262400      ['conv4_block1_out[0][0]']       \n",
            "                                256)                                                              \n",
            "                                                                                                  \n",
            " conv4_block2_1_bn (BatchNormal  (None, None, None,   1024       ['conv4_block2_1_conv[0][0]']    \n",
            " ization)                       256)                                                              \n",
            "                                                                                                  \n",
            " conv4_block2_1_relu (Activatio  (None, None, None,   0          ['conv4_block2_1_bn[0][0]']      \n",
            " n)                             256)                                                              \n",
            "                                                                                                  \n",
            " conv4_block2_2_conv (Conv2D)   (None, None, None,   590080      ['conv4_block2_1_relu[0][0]']    \n",
            "                                256)                                                              \n",
            "                                                                                                  \n",
            " conv4_block2_2_bn (BatchNormal  (None, None, None,   1024       ['conv4_block2_2_conv[0][0]']    \n",
            " ization)                       256)                                                              \n",
            "                                                                                                  \n",
            " conv4_block2_2_relu (Activatio  (None, None, None,   0          ['conv4_block2_2_bn[0][0]']      \n",
            " n)                             256)                                                              \n",
            "                                                                                                  \n",
            " conv4_block2_3_conv (Conv2D)   (None, None, None,   263168      ['conv4_block2_2_relu[0][0]']    \n",
            "                                1024)                                                             \n",
            "                                                                                                  \n",
            " conv4_block2_3_bn (BatchNormal  (None, None, None,   4096       ['conv4_block2_3_conv[0][0]']    \n",
            " ization)                       1024)                                                             \n",
            "                                                                                                  \n",
            " conv4_block2_add (Add)         (None, None, None,   0           ['conv4_block1_out[0][0]',       \n",
            "                                1024)                             'conv4_block2_3_bn[0][0]']      \n",
            "                                                                                                  \n",
            " conv4_block2_out (Activation)  (None, None, None,   0           ['conv4_block2_add[0][0]']       \n",
            "                                1024)                                                             \n",
            "                                                                                                  \n",
            " conv4_block3_1_conv (Conv2D)   (None, None, None,   262400      ['conv4_block2_out[0][0]']       \n",
            "                                256)                                                              \n",
            "                                                                                                  \n",
            " conv4_block3_1_bn (BatchNormal  (None, None, None,   1024       ['conv4_block3_1_conv[0][0]']    \n",
            " ization)                       256)                                                              \n",
            "                                                                                                  \n",
            " conv4_block3_1_relu (Activatio  (None, None, None,   0          ['conv4_block3_1_bn[0][0]']      \n",
            " n)                             256)                                                              \n",
            "                                                                                                  \n",
            " conv4_block3_2_conv (Conv2D)   (None, None, None,   590080      ['conv4_block3_1_relu[0][0]']    \n",
            "                                256)                                                              \n",
            "                                                                                                  \n",
            " conv4_block3_2_bn (BatchNormal  (None, None, None,   1024       ['conv4_block3_2_conv[0][0]']    \n",
            " ization)                       256)                                                              \n",
            "                                                                                                  \n",
            " conv4_block3_2_relu (Activatio  (None, None, None,   0          ['conv4_block3_2_bn[0][0]']      \n",
            " n)                             256)                                                              \n",
            "                                                                                                  \n",
            " conv4_block3_3_conv (Conv2D)   (None, None, None,   263168      ['conv4_block3_2_relu[0][0]']    \n",
            "                                1024)                                                             \n",
            "                                                                                                  \n",
            " conv4_block3_3_bn (BatchNormal  (None, None, None,   4096       ['conv4_block3_3_conv[0][0]']    \n",
            " ization)                       1024)                                                             \n",
            "                                                                                                  \n",
            " conv4_block3_add (Add)         (None, None, None,   0           ['conv4_block2_out[0][0]',       \n",
            "                                1024)                             'conv4_block3_3_bn[0][0]']      \n",
            "                                                                                                  \n",
            " conv4_block3_out (Activation)  (None, None, None,   0           ['conv4_block3_add[0][0]']       \n",
            "                                1024)                                                             \n",
            "                                                                                                  \n",
            " conv4_block4_1_conv (Conv2D)   (None, None, None,   262400      ['conv4_block3_out[0][0]']       \n",
            "                                256)                                                              \n",
            "                                                                                                  \n",
            " conv4_block4_1_bn (BatchNormal  (None, None, None,   1024       ['conv4_block4_1_conv[0][0]']    \n",
            " ization)                       256)                                                              \n",
            "                                                                                                  \n",
            " conv4_block4_1_relu (Activatio  (None, None, None,   0          ['conv4_block4_1_bn[0][0]']      \n",
            " n)                             256)                                                              \n",
            "                                                                                                  \n",
            " conv4_block4_2_conv (Conv2D)   (None, None, None,   590080      ['conv4_block4_1_relu[0][0]']    \n",
            "                                256)                                                              \n",
            "                                                                                                  \n",
            " conv4_block4_2_bn (BatchNormal  (None, None, None,   1024       ['conv4_block4_2_conv[0][0]']    \n",
            " ization)                       256)                                                              \n",
            "                                                                                                  \n",
            " conv4_block4_2_relu (Activatio  (None, None, None,   0          ['conv4_block4_2_bn[0][0]']      \n",
            " n)                             256)                                                              \n",
            "                                                                                                  \n",
            " conv4_block4_3_conv (Conv2D)   (None, None, None,   263168      ['conv4_block4_2_relu[0][0]']    \n",
            "                                1024)                                                             \n",
            "                                                                                                  \n",
            " conv4_block4_3_bn (BatchNormal  (None, None, None,   4096       ['conv4_block4_3_conv[0][0]']    \n",
            " ization)                       1024)                                                             \n",
            "                                                                                                  \n",
            " conv4_block4_add (Add)         (None, None, None,   0           ['conv4_block3_out[0][0]',       \n",
            "                                1024)                             'conv4_block4_3_bn[0][0]']      \n",
            "                                                                                                  \n",
            " conv4_block4_out (Activation)  (None, None, None,   0           ['conv4_block4_add[0][0]']       \n",
            "                                1024)                                                             \n",
            "                                                                                                  \n",
            " conv4_block5_1_conv (Conv2D)   (None, None, None,   262400      ['conv4_block4_out[0][0]']       \n",
            "                                256)                                                              \n",
            "                                                                                                  \n",
            " conv4_block5_1_bn (BatchNormal  (None, None, None,   1024       ['conv4_block5_1_conv[0][0]']    \n",
            " ization)                       256)                                                              \n",
            "                                                                                                  \n",
            " conv4_block5_1_relu (Activatio  (None, None, None,   0          ['conv4_block5_1_bn[0][0]']      \n",
            " n)                             256)                                                              \n",
            "                                                                                                  \n",
            " conv4_block5_2_conv (Conv2D)   (None, None, None,   590080      ['conv4_block5_1_relu[0][0]']    \n",
            "                                256)                                                              \n",
            "                                                                                                  \n",
            " conv4_block5_2_bn (BatchNormal  (None, None, None,   1024       ['conv4_block5_2_conv[0][0]']    \n",
            " ization)                       256)                                                              \n",
            "                                                                                                  \n",
            " conv4_block5_2_relu (Activatio  (None, None, None,   0          ['conv4_block5_2_bn[0][0]']      \n",
            " n)                             256)                                                              \n",
            "                                                                                                  \n",
            " conv4_block5_3_conv (Conv2D)   (None, None, None,   263168      ['conv4_block5_2_relu[0][0]']    \n",
            "                                1024)                                                             \n",
            "                                                                                                  \n",
            " conv4_block5_3_bn (BatchNormal  (None, None, None,   4096       ['conv4_block5_3_conv[0][0]']    \n",
            " ization)                       1024)                                                             \n",
            "                                                                                                  \n",
            " conv4_block5_add (Add)         (None, None, None,   0           ['conv4_block4_out[0][0]',       \n",
            "                                1024)                             'conv4_block5_3_bn[0][0]']      \n",
            "                                                                                                  \n",
            " conv4_block5_out (Activation)  (None, None, None,   0           ['conv4_block5_add[0][0]']       \n",
            "                                1024)                                                             \n",
            "                                                                                                  \n",
            " conv4_block6_1_conv (Conv2D)   (None, None, None,   262400      ['conv4_block5_out[0][0]']       \n",
            "                                256)                                                              \n",
            "                                                                                                  \n",
            " conv4_block6_1_bn (BatchNormal  (None, None, None,   1024       ['conv4_block6_1_conv[0][0]']    \n",
            " ization)                       256)                                                              \n",
            "                                                                                                  \n",
            " conv4_block6_1_relu (Activatio  (None, None, None,   0          ['conv4_block6_1_bn[0][0]']      \n",
            " n)                             256)                                                              \n",
            "                                                                                                  \n",
            " conv4_block6_2_conv (Conv2D)   (None, None, None,   590080      ['conv4_block6_1_relu[0][0]']    \n",
            "                                256)                                                              \n",
            "                                                                                                  \n",
            " conv4_block6_2_bn (BatchNormal  (None, None, None,   1024       ['conv4_block6_2_conv[0][0]']    \n",
            " ization)                       256)                                                              \n",
            "                                                                                                  \n",
            " conv4_block6_2_relu (Activatio  (None, None, None,   0          ['conv4_block6_2_bn[0][0]']      \n",
            " n)                             256)                                                              \n",
            "                                                                                                  \n",
            " conv4_block6_3_conv (Conv2D)   (None, None, None,   263168      ['conv4_block6_2_relu[0][0]']    \n",
            "                                1024)                                                             \n",
            "                                                                                                  \n",
            " conv4_block6_3_bn (BatchNormal  (None, None, None,   4096       ['conv4_block6_3_conv[0][0]']    \n",
            " ization)                       1024)                                                             \n",
            "                                                                                                  \n",
            " conv4_block6_add (Add)         (None, None, None,   0           ['conv4_block5_out[0][0]',       \n",
            "                                1024)                             'conv4_block6_3_bn[0][0]']      \n",
            "                                                                                                  \n",
            " conv4_block6_out (Activation)  (None, None, None,   0           ['conv4_block6_add[0][0]']       \n",
            "                                1024)                                                             \n",
            "                                                                                                  \n",
            " conv5_block1_1_conv (Conv2D)   (None, None, None,   524800      ['conv4_block6_out[0][0]']       \n",
            "                                512)                                                              \n",
            "                                                                                                  \n",
            " conv5_block1_1_bn (BatchNormal  (None, None, None,   2048       ['conv5_block1_1_conv[0][0]']    \n",
            " ization)                       512)                                                              \n",
            "                                                                                                  \n",
            " conv5_block1_1_relu (Activatio  (None, None, None,   0          ['conv5_block1_1_bn[0][0]']      \n",
            " n)                             512)                                                              \n",
            "                                                                                                  \n",
            " conv5_block1_2_conv (Conv2D)   (None, None, None,   2359808     ['conv5_block1_1_relu[0][0]']    \n",
            "                                512)                                                              \n",
            "                                                                                                  \n",
            " conv5_block1_2_bn (BatchNormal  (None, None, None,   2048       ['conv5_block1_2_conv[0][0]']    \n",
            " ization)                       512)                                                              \n",
            "                                                                                                  \n",
            " conv5_block1_2_relu (Activatio  (None, None, None,   0          ['conv5_block1_2_bn[0][0]']      \n",
            " n)                             512)                                                              \n",
            "                                                                                                  \n",
            " conv5_block1_0_conv (Conv2D)   (None, None, None,   2099200     ['conv4_block6_out[0][0]']       \n",
            "                                2048)                                                             \n",
            "                                                                                                  \n",
            " conv5_block1_3_conv (Conv2D)   (None, None, None,   1050624     ['conv5_block1_2_relu[0][0]']    \n",
            "                                2048)                                                             \n",
            "                                                                                                  \n",
            " conv5_block1_0_bn (BatchNormal  (None, None, None,   8192       ['conv5_block1_0_conv[0][0]']    \n",
            " ization)                       2048)                                                             \n",
            "                                                                                                  \n",
            " conv5_block1_3_bn (BatchNormal  (None, None, None,   8192       ['conv5_block1_3_conv[0][0]']    \n",
            " ization)                       2048)                                                             \n",
            "                                                                                                  \n",
            " conv5_block1_add (Add)         (None, None, None,   0           ['conv5_block1_0_bn[0][0]',      \n",
            "                                2048)                             'conv5_block1_3_bn[0][0]']      \n",
            "                                                                                                  \n",
            " conv5_block1_out (Activation)  (None, None, None,   0           ['conv5_block1_add[0][0]']       \n",
            "                                2048)                                                             \n",
            "                                                                                                  \n",
            " conv5_block2_1_conv (Conv2D)   (None, None, None,   1049088     ['conv5_block1_out[0][0]']       \n",
            "                                512)                                                              \n",
            "                                                                                                  \n",
            " conv5_block2_1_bn (BatchNormal  (None, None, None,   2048       ['conv5_block2_1_conv[0][0]']    \n",
            " ization)                       512)                                                              \n",
            "                                                                                                  \n",
            " conv5_block2_1_relu (Activatio  (None, None, None,   0          ['conv5_block2_1_bn[0][0]']      \n",
            " n)                             512)                                                              \n",
            "                                                                                                  \n",
            " conv5_block2_2_conv (Conv2D)   (None, None, None,   2359808     ['conv5_block2_1_relu[0][0]']    \n",
            "                                512)                                                              \n",
            "                                                                                                  \n",
            " conv5_block2_2_bn (BatchNormal  (None, None, None,   2048       ['conv5_block2_2_conv[0][0]']    \n",
            " ization)                       512)                                                              \n",
            "                                                                                                  \n",
            " conv5_block2_2_relu (Activatio  (None, None, None,   0          ['conv5_block2_2_bn[0][0]']      \n",
            " n)                             512)                                                              \n",
            "                                                                                                  \n",
            " conv5_block2_3_conv (Conv2D)   (None, None, None,   1050624     ['conv5_block2_2_relu[0][0]']    \n",
            "                                2048)                                                             \n",
            "                                                                                                  \n",
            " conv5_block2_3_bn (BatchNormal  (None, None, None,   8192       ['conv5_block2_3_conv[0][0]']    \n",
            " ization)                       2048)                                                             \n",
            "                                                                                                  \n",
            " conv5_block2_add (Add)         (None, None, None,   0           ['conv5_block1_out[0][0]',       \n",
            "                                2048)                             'conv5_block2_3_bn[0][0]']      \n",
            "                                                                                                  \n",
            " conv5_block2_out (Activation)  (None, None, None,   0           ['conv5_block2_add[0][0]']       \n",
            "                                2048)                                                             \n",
            "                                                                                                  \n",
            " conv5_block3_1_conv (Conv2D)   (None, None, None,   1049088     ['conv5_block2_out[0][0]']       \n",
            "                                512)                                                              \n",
            "                                                                                                  \n",
            " conv5_block3_1_bn (BatchNormal  (None, None, None,   2048       ['conv5_block3_1_conv[0][0]']    \n",
            " ization)                       512)                                                              \n",
            "                                                                                                  \n",
            " conv5_block3_1_relu (Activatio  (None, None, None,   0          ['conv5_block3_1_bn[0][0]']      \n",
            " n)                             512)                                                              \n",
            "                                                                                                  \n",
            " conv5_block3_2_conv (Conv2D)   (None, None, None,   2359808     ['conv5_block3_1_relu[0][0]']    \n",
            "                                512)                                                              \n",
            "                                                                                                  \n",
            " conv5_block3_2_bn (BatchNormal  (None, None, None,   2048       ['conv5_block3_2_conv[0][0]']    \n",
            " ization)                       512)                                                              \n",
            "                                                                                                  \n",
            " conv5_block3_2_relu (Activatio  (None, None, None,   0          ['conv5_block3_2_bn[0][0]']      \n",
            " n)                             512)                                                              \n",
            "                                                                                                  \n",
            " conv5_block3_3_conv (Conv2D)   (None, None, None,   1050624     ['conv5_block3_2_relu[0][0]']    \n",
            "                                2048)                                                             \n",
            "                                                                                                  \n",
            " conv5_block3_3_bn (BatchNormal  (None, None, None,   8192       ['conv5_block3_3_conv[0][0]']    \n",
            " ization)                       2048)                                                             \n",
            "                                                                                                  \n",
            " conv5_block3_add (Add)         (None, None, None,   0           ['conv5_block2_out[0][0]',       \n",
            "                                2048)                             'conv5_block3_3_bn[0][0]']      \n",
            "                                                                                                  \n",
            " conv5_block3_out (Activation)  (None, None, None,   0           ['conv5_block3_add[0][0]']       \n",
            "                                2048)                                                             \n",
            "                                                                                                  \n",
            " global_average_pooling2d_4 (Gl  (None, 2048)        0           ['conv5_block3_out[0][0]']       \n",
            " obalAveragePooling2D)                                                                            \n",
            "                                                                                                  \n",
            " dense_8 (Dense)                (None, 128)          262272      ['global_average_pooling2d_4[0][0\n",
            "                                                                 ]']                              \n",
            "                                                                                                  \n",
            " dense_9 (Dense)                (None, 3)            387         ['dense_8[0][0]']                \n",
            "                                                                                                  \n",
            "==================================================================================================\n",
            "Total params: 23,850,371\n",
            "Trainable params: 262,659\n",
            "Non-trainable params: 23,587,712\n",
            "__________________________________________________________________________________________________\n"
          ]
        }
      ],
      "source": [
        "x = conv_base.output\n",
        "x = layers.GlobalAveragePooling2D()(x)\n",
        "x = layers.Dense(128, activation='relu')(x) \n",
        "\n",
        "predictions = layers.Dense(qtde_classes, activation='softmax')(x)\n",
        "model = Model(conv_base.input, predictions)\n",
        "\n",
        "model.summary()"
      ]
    },
    {
      "cell_type": "code",
      "execution_count": 118,
      "metadata": {
        "id": "fF4_z8JJVLb9"
      },
      "outputs": [],
      "source": [
        "optimizer = optimizers.Adam()\n",
        "model.compile(loss='categorical_crossentropy', optimizer=optimizer, metrics=[precision_score, recall_score, f1_score])"
      ]
    },
    {
      "cell_type": "markdown",
      "metadata": {
        "id": "2w81USs1VLb-"
      },
      "source": [
        "O número de épocas define quantas vezes o modelo irá treinar e validar o erro, assim ajustando os pesos para melhor convergência.\n",
        "Escolha o número adequado de épocas para alcançarmos pelo menos **70% de precisão de validação**."
      ]
    },
    {
      "cell_type": "code",
      "execution_count": 119,
      "metadata": {
        "id": "h3tSj-aQVLb-"
      },
      "outputs": [],
      "source": [
        "qtde_epocas = 10"
      ]
    },
    {
      "cell_type": "code",
      "execution_count": 120,
      "metadata": {
        "id": "Ktyt9UwqVLb-",
        "colab": {
          "base_uri": "https://localhost:8080/"
        },
        "outputId": "8254bb06-fe4d-4fed-d1d7-560a6e4caa07"
      },
      "outputs": [
        {
          "output_type": "stream",
          "name": "stdout",
          "text": [
            "Epoch 1/10\n",
            "5/5 [==============================] - 8s 1s/step - loss: 3.0138 - precision_score: 0.3380 - recall_score: 0.3187 - f1_score: 0.3272 - val_loss: 2.0634 - val_precision_score: 0.4645 - val_recall_score: 0.4625 - val_f1_score: 0.4635\n",
            "Epoch 2/10\n",
            "5/5 [==============================] - 3s 653ms/step - loss: 1.8757 - precision_score: 0.4033 - recall_score: 0.4007 - f1_score: 0.4020 - val_loss: 1.3930 - val_precision_score: 0.2719 - val_recall_score: 0.2562 - val_f1_score: 0.2637\n",
            "Epoch 3/10\n",
            "5/5 [==============================] - 3s 660ms/step - loss: 1.0635 - precision_score: 0.5591 - recall_score: 0.4437 - f1_score: 0.4911 - val_loss: 1.2296 - val_precision_score: 0.6190 - val_recall_score: 0.5750 - val_f1_score: 0.5954\n",
            "Epoch 4/10\n",
            "5/5 [==============================] - 3s 658ms/step - loss: 1.1112 - precision_score: 0.5392 - recall_score: 0.3875 - f1_score: 0.4444 - val_loss: 1.0310 - val_precision_score: 0.3555 - val_recall_score: 0.2875 - val_f1_score: 0.3177\n",
            "Epoch 5/10\n",
            "5/5 [==============================] - 3s 644ms/step - loss: 1.0083 - precision_score: 0.5401 - recall_score: 0.4528 - f1_score: 0.4921 - val_loss: 0.8569 - val_precision_score: 0.7606 - val_recall_score: 0.5500 - val_f1_score: 0.6303\n",
            "Epoch 6/10\n",
            "5/5 [==============================] - 3s 730ms/step - loss: 0.8140 - precision_score: 0.7065 - recall_score: 0.5000 - f1_score: 0.5849 - val_loss: 0.9087 - val_precision_score: 0.5167 - val_recall_score: 0.3938 - val_f1_score: 0.4460\n",
            "Epoch 7/10\n",
            "5/5 [==============================] - 3s 691ms/step - loss: 0.8399 - precision_score: 0.7388 - recall_score: 0.4896 - f1_score: 0.5869 - val_loss: 0.7250 - val_precision_score: 0.8317 - val_recall_score: 0.6875 - val_f1_score: 0.7498\n",
            "Epoch 8/10\n",
            "5/5 [==============================] - 3s 696ms/step - loss: 0.6662 - precision_score: 0.8043 - recall_score: 0.6049 - f1_score: 0.6898 - val_loss: 0.7755 - val_precision_score: 0.7498 - val_recall_score: 0.6375 - val_f1_score: 0.6872\n",
            "Epoch 9/10\n",
            "5/5 [==============================] - 4s 976ms/step - loss: 0.6298 - precision_score: 0.7837 - recall_score: 0.6438 - f1_score: 0.7062 - val_loss: 0.6646 - val_precision_score: 0.8452 - val_recall_score: 0.7250 - val_f1_score: 0.7781\n",
            "Epoch 10/10\n",
            "5/5 [==============================] - 3s 728ms/step - loss: 0.6270 - precision_score: 0.7877 - recall_score: 0.6438 - f1_score: 0.7077 - val_loss: 0.7082 - val_precision_score: 0.8092 - val_recall_score: 0.7000 - val_f1_score: 0.7491\n"
          ]
        }
      ],
      "source": [
        "history = model.fit(train_generator, epochs=qtde_epocas, validation_steps=5, steps_per_epoch=5, validation_data=val_generator)"
      ]
    },
    {
      "cell_type": "markdown",
      "metadata": {
        "id": "T1yQ4Xj_VLb-"
      },
      "source": [
        "Um modelo que converge bem possui o gráfico de perda (*loss*) descendente e os gráfico de precisão (*precision*), sensibilidade (*recall*) e pontuação f1 (*f1 score*) em acendente."
      ]
    },
    {
      "cell_type": "code",
      "execution_count": 121,
      "metadata": {
        "id": "8fSp5YsdVLb_",
        "colab": {
          "base_uri": "https://localhost:8080/",
          "height": 1000
        },
        "outputId": "bcca5b14-b08c-46a7-fbb6-378bb6441825"
      },
      "outputs": [
        {
          "output_type": "display_data",
          "data": {
            "text/plain": [
              "<Figure size 432x288 with 1 Axes>"
            ],
            "image/png": "[encoded data removed]"
          },
          "metadata": {
            "needs_background": "light"
          }
        },
        {
          "output_type": "display_data",
          "data": {
            "text/plain": [
              "<Figure size 432x288 with 1 Axes>"
            ],
            "image/png": "[encoded data removed]"
          },
          "metadata": {
            "needs_background": "light"
          }
        },
        {
          "output_type": "display_data",
          "data": {
            "text/plain": [
              "<Figure size 432x288 with 1 Axes>"
            ],
            "image/png": "[encoded data removed]"
          },
          "metadata": {
            "needs_background": "light"
          }
        },
        {
          "output_type": "display_data",
          "data": {
            "text/plain": [
              "<Figure size 432x288 with 1 Axes>"
            ],
            "image/png": "[encoded data removed]"
          },
          "metadata": {
            "needs_background": "light"
          }
        }
      ],
      "source": [
        "# Exibindo dados de Precisão\n",
        "plt.plot(history.history['precision_score'])\n",
        "plt.plot(history.history['val_precision_score'])\n",
        "plt.title('model precision')\n",
        "plt.ylabel('precision')\n",
        "plt.xlabel('epoch')\n",
        "plt.legend(['train', 'test'], loc='upper left')\n",
        "plt.show()\n",
        "\n",
        "# Exibindo dados de Sensibilidade\n",
        "plt.plot(history.history['recall_score'])\n",
        "plt.plot(history.history['val_recall_score'])\n",
        "plt.title('model recall')\n",
        "plt.ylabel('recall')\n",
        "plt.xlabel('epoch')\n",
        "plt.legend(['train', 'test'], loc='upper left')\n",
        "plt.show()\n",
        "\n",
        "# Exibindo dados de F1 Score\n",
        "plt.plot(history.history['f1_score'])\n",
        "plt.plot(history.history['val_f1_score'])\n",
        "plt.title('model f1_score')\n",
        "plt.ylabel('f1_score')\n",
        "plt.xlabel('epoch')\n",
        "plt.legend(['train', 'test'], loc='upper left')\n",
        "plt.show()\n",
        "\n",
        "# Exibindo dados de Perda\n",
        "plt.plot(history.history['loss'])\n",
        "plt.plot(history.history['val_loss'])\n",
        "plt.title('model loss')\n",
        "plt.ylabel('loss')\n",
        "plt.xlabel('epoch')\n",
        "plt.legend(['train', 'test'], loc='upper left')\n",
        "plt.show()"
      ]
    },
    {
      "cell_type": "markdown",
      "metadata": {
        "id": "m2-1oW0MVLb_"
      },
      "source": [
        "**Pergunta**: Avalie os gráficos de perda (*loss*), precisão (*precision*), sensibilidade (*recall*) e pontuação f1 (*f1 score*)  e explique o comportamento de ambos no que tange a convergência do modelo."
      ]
    },
    {
      "cell_type": "markdown",
      "metadata": {
        "id": "ftzL_4hzVLcA"
      },
      "source": [
        "**Resposta**:"
      ]
    },
    {
      "cell_type": "markdown",
      "metadata": {
        "id": "WOLeaV0LVLcA"
      },
      "source": [
        "**Pergunta**: Quais são os valores de **precisão (precision)**, **sensibilidade (recall)** de validação? \n",
        "\n",
        "*Estes valores são exibidos durante o treinamento, utilize a última saída, exemplo:*\n",
        "\n",
        "```\n",
        "Epoch 10/10 [==============================] - 45s 9s/step - loss: 0.1234 - precision_score: 0.9742 - recall_score: 0.9683 - f1_score: 0.9712 - val_loss: 0.8819 - val_precision_score: 0.6912 - val_recall_score: 0.5649 - val_f1_score: 0.6216```\n",
        "\n",
        "No caso acima, o valor de precisão, sensibilidade e pontuação de validação são, respectivamente, 69,12%, 56,49% e 62,16%."
      ]
    },
    {
      "cell_type": "markdown",
      "metadata": {
        "id": "UYaV9vOZVLcA"
      },
      "source": [
        "**Resposta**:"
      ]
    },
    {
      "cell_type": "markdown",
      "metadata": {
        "id": "9bbSFsZZVLcA"
      },
      "source": [
        "### 4.5.2 Arquitetura VGG16"
      ]
    },
    {
      "cell_type": "markdown",
      "metadata": {
        "id": "4wnnl17JVLcB"
      },
      "source": [
        "**Pergunta**: Explique como é constituída a arquitetura do VGG16? *Utilize, se necessário, gráficos, projetos que utilizam essa arquitetura. Detalhe também sua topologia em camadas e mostre quais as situações essa arquitetura pode ter mais êxito e quais cenários não tem.*"
      ]
    },
    {
      "cell_type": "markdown",
      "metadata": {
        "id": "HfdR_alNVLcB"
      },
      "source": [
        "**Resposta**:"
      ]
    },
    {
      "cell_type": "code",
      "execution_count": 122,
      "metadata": {
        "id": "jJa8jfJmVLcB"
      },
      "outputs": [],
      "source": [
        "conv_base = VGG16(include_top=False)\n",
        "\n",
        "for layer in conv_base.layers:\n",
        "    layer.trainable = False"
      ]
    },
    {
      "cell_type": "code",
      "execution_count": 123,
      "metadata": {
        "id": "xX3Td9znVLcB",
        "colab": {
          "base_uri": "https://localhost:8080/"
        },
        "outputId": "58662a2e-c651-4f73-9bc1-9692a335abab"
      },
      "outputs": [
        {
          "output_type": "stream",
          "name": "stdout",
          "text": [
            "Model: \"model_5\"\n",
            "_________________________________________________________________\n",
            " Layer (type)                Output Shape              Param #   \n",
            "=================================================================\n",
            " input_6 (InputLayer)        [(None, None, None, 3)]   0         \n",
            "                                                                 \n",
            " block1_conv1 (Conv2D)       (None, None, None, 64)    1792      \n",
            "                                                                 \n",
            " block1_conv2 (Conv2D)       (None, None, None, 64)    36928     \n",
            "                                                                 \n",
            " block1_pool (MaxPooling2D)  (None, None, None, 64)    0         \n",
            "                                                                 \n",
            " block2_conv1 (Conv2D)       (None, None, None, 128)   73856     \n",
            "                                                                 \n",
            " block2_conv2 (Conv2D)       (None, None, None, 128)   147584    \n",
            "                                                                 \n",
            " block2_pool (MaxPooling2D)  (None, None, None, 128)   0         \n",
            "                                                                 \n",
            " block3_conv1 (Conv2D)       (None, None, None, 256)   295168    \n",
            "                                                                 \n",
            " block3_conv2 (Conv2D)       (None, None, None, 256)   590080    \n",
            "                                                                 \n",
            " block3_conv3 (Conv2D)       (None, None, None, 256)   590080    \n",
            "                                                                 \n",
            " block3_pool (MaxPooling2D)  (None, None, None, 256)   0         \n",
            "                                                                 \n",
            " block4_conv1 (Conv2D)       (None, None, None, 512)   1180160   \n",
            "                                                                 \n",
            " block4_conv2 (Conv2D)       (None, None, None, 512)   2359808   \n",
            "                                                                 \n",
            " block4_conv3 (Conv2D)       (None, None, None, 512)   2359808   \n",
            "                                                                 \n",
            " block4_pool (MaxPooling2D)  (None, None, None, 512)   0         \n",
            "                                                                 \n",
            " block5_conv1 (Conv2D)       (None, None, None, 512)   2359808   \n",
            "                                                                 \n",
            " block5_conv2 (Conv2D)       (None, None, None, 512)   2359808   \n",
            "                                                                 \n",
            " block5_conv3 (Conv2D)       (None, None, None, 512)   2359808   \n",
            "                                                                 \n",
            " block5_pool (MaxPooling2D)  (None, None, None, 512)   0         \n",
            "                                                                 \n",
            " global_average_pooling2d_5   (None, 512)              0         \n",
            " (GlobalAveragePooling2D)                                        \n",
            "                                                                 \n",
            " dense_10 (Dense)            (None, 128)               65664     \n",
            "                                                                 \n",
            " dense_11 (Dense)            (None, 3)                 387       \n",
            "                                                                 \n",
            "=================================================================\n",
            "Total params: 14,780,739\n",
            "Trainable params: 66,051\n",
            "Non-trainable params: 14,714,688\n",
            "_________________________________________________________________\n"
          ]
        }
      ],
      "source": [
        "x = conv_base.output\n",
        "x = layers.GlobalAveragePooling2D()(x)\n",
        "x = layers.Dense(128, activation='relu')(x) \n",
        "\n",
        "predictions = layers.Dense(qtde_classes, activation='softmax')(x)\n",
        "model = Model(conv_base.input, predictions)\n",
        "\n",
        "model.summary()"
      ]
    },
    {
      "cell_type": "code",
      "execution_count": 124,
      "metadata": {
        "id": "5ZELDjGUVLcC"
      },
      "outputs": [],
      "source": [
        "optimizer = optimizers.Adam()\n",
        "model.compile(loss='categorical_crossentropy', optimizer=optimizer, metrics=[precision_score, recall_score, f1_score])"
      ]
    },
    {
      "cell_type": "code",
      "execution_count": 125,
      "metadata": {
        "id": "PSJIwdsCVLcC",
        "colab": {
          "base_uri": "https://localhost:8080/"
        },
        "outputId": "81962c03-f054-4133-c0e9-96f4b5ffcf65"
      },
      "outputs": [
        {
          "output_type": "stream",
          "name": "stdout",
          "text": [
            "Epoch 1/10\n",
            "5/5 [==============================] - 7s 1s/step - loss: 3.4188 - precision_score: 0.3334 - recall_score: 0.3250 - f1_score: 0.3291 - val_loss: 2.7211 - val_precision_score: 0.3266 - val_recall_score: 0.3000 - val_f1_score: 0.3126\n",
            "Epoch 2/10\n",
            "5/5 [==============================] - 4s 749ms/step - loss: 1.8295 - precision_score: 0.4657 - recall_score: 0.4375 - f1_score: 0.4511 - val_loss: 1.4844 - val_precision_score: 0.6366 - val_recall_score: 0.6062 - val_f1_score: 0.6208\n",
            "Epoch 3/10\n",
            "5/5 [==============================] - 4s 751ms/step - loss: 1.5961 - precision_score: 0.5270 - recall_score: 0.4785 - f1_score: 0.5004 - val_loss: 1.3182 - val_precision_score: 0.3763 - val_recall_score: 0.3500 - val_f1_score: 0.3627\n",
            "Epoch 4/10\n",
            "5/5 [==============================] - 4s 759ms/step - loss: 1.2975 - precision_score: 0.5339 - recall_score: 0.5049 - f1_score: 0.5187 - val_loss: 1.1451 - val_precision_score: 0.7213 - val_recall_score: 0.6750 - val_f1_score: 0.6969\n",
            "Epoch 5/10\n",
            "5/5 [==============================] - 4s 745ms/step - loss: 1.1368 - precision_score: 0.6525 - recall_score: 0.6215 - f1_score: 0.6363 - val_loss: 0.7439 - val_precision_score: 0.7928 - val_recall_score: 0.7563 - val_f1_score: 0.7737\n",
            "Epoch 6/10\n",
            "5/5 [==============================] - 4s 738ms/step - loss: 0.7283 - precision_score: 0.7015 - recall_score: 0.6687 - f1_score: 0.6845 - val_loss: 0.8222 - val_precision_score: 0.5389 - val_recall_score: 0.5063 - val_f1_score: 0.5218\n",
            "Epoch 7/10\n",
            "5/5 [==============================] - 4s 754ms/step - loss: 0.6797 - precision_score: 0.7172 - recall_score: 0.6819 - f1_score: 0.6989 - val_loss: 0.8812 - val_precision_score: 0.5752 - val_recall_score: 0.5625 - val_f1_score: 0.5687\n",
            "Epoch 8/10\n",
            "5/5 [==============================] - 3s 738ms/step - loss: 0.8591 - precision_score: 0.7254 - recall_score: 0.6917 - f1_score: 0.7079 - val_loss: 0.5955 - val_precision_score: 0.8208 - val_recall_score: 0.8000 - val_f1_score: 0.8100\n",
            "Epoch 9/10\n",
            "5/5 [==============================] - 4s 766ms/step - loss: 0.6711 - precision_score: 0.7047 - recall_score: 0.6687 - f1_score: 0.6862 - val_loss: 0.5908 - val_precision_score: 0.8447 - val_recall_score: 0.8000 - val_f1_score: 0.8212\n",
            "Epoch 10/10\n",
            "5/5 [==============================] - 4s 752ms/step - loss: 0.5662 - precision_score: 0.7970 - recall_score: 0.7347 - f1_score: 0.7633 - val_loss: 0.6540 - val_precision_score: 0.8101 - val_recall_score: 0.7812 - val_f1_score: 0.7953\n"
          ]
        }
      ],
      "source": [
        "history = model.fit(train_generator, epochs=qtde_epocas, validation_steps=5, steps_per_epoch=5, validation_data=val_generator)"
      ]
    },
    {
      "cell_type": "markdown",
      "metadata": {
        "id": "vG4ObfbvVLcC"
      },
      "source": [
        "Um modelo que converge bem possui o gráfico de perda (*loss*) descendente e os gráfico de precisão (*precision*), sensibilidade (*recall*) e pontuação f1 (*f1 score*) em acendente."
      ]
    },
    {
      "cell_type": "code",
      "execution_count": 126,
      "metadata": {
        "id": "A4nbAceCVLcD",
        "colab": {
          "base_uri": "https://localhost:8080/",
          "height": 1000
        },
        "outputId": "a93dfd98-1530-472a-c520-8fb6457de725"
      },
      "outputs": [
        {
          "output_type": "display_data",
          "data": {
            "text/plain": [
              "<Figure size 432x288 with 1 Axes>"
            ],
            "image/png": "[encoded data removed]"
          },
          "metadata": {
            "needs_background": "light"
          }
        },
        {
          "output_type": "display_data",
          "data": {
            "text/plain": [
              "<Figure size 432x288 with 1 Axes>"
            ],
            "image/png": "[encoded data removed]"
          },
          "metadata": {
            "needs_background": "light"
          }
        },
        {
          "output_type": "display_data",
          "data": {
            "text/plain": [
              "<Figure size 432x288 with 1 Axes>"
            ],
            "image/png": "[encoded data removed]"
          },
          "metadata": {
            "needs_background": "light"
          }
        },
        {
          "output_type": "display_data",
          "data": {
            "text/plain": [
              "<Figure size 432x288 with 1 Axes>"
            ],
            "image/png": "[encoded data removed]"
          },
          "metadata": {
            "needs_background": "light"
          }
        }
      ],
      "source": [
        "# Exibindo dados de Precisão\n",
        "plt.plot(history.history['precision_score'])\n",
        "plt.plot(history.history['val_precision_score'])\n",
        "plt.title('model precision')\n",
        "plt.ylabel('precision')\n",
        "plt.xlabel('epoch')\n",
        "plt.legend(['train', 'test'], loc='upper left')\n",
        "plt.show()\n",
        "\n",
        "# Exibindo dados de Sensibilidade\n",
        "plt.plot(history.history['recall_score'])\n",
        "plt.plot(history.history['val_recall_score'])\n",
        "plt.title('model recall')\n",
        "plt.ylabel('recall')\n",
        "plt.xlabel('epoch')\n",
        "plt.legend(['train', 'test'], loc='upper left')\n",
        "plt.show()\n",
        "\n",
        "# Exibindo dados de F1 Score\n",
        "plt.plot(history.history['f1_score'])\n",
        "plt.plot(history.history['val_f1_score'])\n",
        "plt.title('model f1_score')\n",
        "plt.ylabel('f1_score')\n",
        "plt.xlabel('epoch')\n",
        "plt.legend(['train', 'test'], loc='upper left')\n",
        "plt.show()\n",
        "\n",
        "# Exibindo dados de Perda\n",
        "plt.plot(history.history['loss'])\n",
        "plt.plot(history.history['val_loss'])\n",
        "plt.title('model loss')\n",
        "plt.ylabel('loss')\n",
        "plt.xlabel('epoch')\n",
        "plt.legend(['train', 'test'], loc='upper left')\n",
        "plt.show()"
      ]
    },
    {
      "cell_type": "markdown",
      "metadata": {
        "id": "xi0OobhkVLcD"
      },
      "source": [
        "**Pergunta**: Avalie os gráficos de perda (*loss*), precisão (*precision*), sensibilidade (*recall*) e pontuação f1 (*f1 score*)  e explique o comportamento de ambos no que tange a convergência do modelo."
      ]
    },
    {
      "cell_type": "markdown",
      "metadata": {
        "id": "WSjIJ8jaVLcD"
      },
      "source": [
        "**Resposta**:"
      ]
    },
    {
      "cell_type": "markdown",
      "metadata": {
        "id": "CIcWXv5GVLcE"
      },
      "source": [
        "**Pergunta**: Quais são os valores de **precisão (precision)**, **sensibilidade (recall)** de validação? \n",
        "\n",
        "*Estes valores são exibidos durante o treinamento, utilize a última saída, exemplo:*\n",
        "\n",
        "```\n",
        "Epoch 10/10 [==============================] - 45s 9s/step - loss: 0.1234 - precision_score: 0.9742 - recall_score: 0.9683 - f1_score: 0.9712 - val_loss: 0.8819 - val_precision_score: 0.6912 - val_recall_score: 0.5649 - val_f1_score: 0.6216```\n",
        "\n",
        "No caso acima, o valor de precisão, sensibilidade e pontuação de validação são, respectivamente, 69,12%, 56,49% e 62,16%."
      ]
    },
    {
      "cell_type": "markdown",
      "metadata": {
        "id": "ZqbXlgPkVLcE"
      },
      "source": [
        "**Resposta**:"
      ]
    },
    {
      "cell_type": "markdown",
      "metadata": {
        "id": "X7A6jKqkVLcE"
      },
      "source": [
        "### 4.5.3 Arquitetura VGG19"
      ]
    },
    {
      "cell_type": "markdown",
      "metadata": {
        "id": "jXLQt8YHVLcF"
      },
      "source": [
        "**Pergunta**: Explique como é constituída a arquitetura do VGG19? *Utilize, se necessário, gráficos, projetos que utilizam essa arquitetura. Detalhe também sua topologia em camadas e mostre quais as situações essa arquitetura pode ter mais êxito e quais cenários não tem.*"
      ]
    },
    {
      "cell_type": "markdown",
      "metadata": {
        "id": "kpdbpIDRVLcF"
      },
      "source": [
        "**Resposta**:"
      ]
    },
    {
      "cell_type": "code",
      "execution_count": 127,
      "metadata": {
        "id": "GJD7sAl3VLcF"
      },
      "outputs": [],
      "source": [
        "conv_base = VGG19(include_top=False)\n",
        "\n",
        "for layer in conv_base.layers:\n",
        "    layer.trainable = False"
      ]
    },
    {
      "cell_type": "code",
      "execution_count": 128,
      "metadata": {
        "id": "OoSpMFVaVLcF",
        "colab": {
          "base_uri": "https://localhost:8080/"
        },
        "outputId": "557bdefa-061b-49bb-87e7-3ca704740aa6"
      },
      "outputs": [
        {
          "output_type": "stream",
          "name": "stdout",
          "text": [
            "Model: \"model_6\"\n",
            "_________________________________________________________________\n",
            " Layer (type)                Output Shape              Param #   \n",
            "=================================================================\n",
            " input_7 (InputLayer)        [(None, None, None, 3)]   0         \n",
            "                                                                 \n",
            " block1_conv1 (Conv2D)       (None, None, None, 64)    1792      \n",
            "                                                                 \n",
            " block1_conv2 (Conv2D)       (None, None, None, 64)    36928     \n",
            "                                                                 \n",
            " block1_pool (MaxPooling2D)  (None, None, None, 64)    0         \n",
            "                                                                 \n",
            " block2_conv1 (Conv2D)       (None, None, None, 128)   73856     \n",
            "                                                                 \n",
            " block2_conv2 (Conv2D)       (None, None, None, 128)   147584    \n",
            "                                                                 \n",
            " block2_pool (MaxPooling2D)  (None, None, None, 128)   0         \n",
            "                                                                 \n",
            " block3_conv1 (Conv2D)       (None, None, None, 256)   295168    \n",
            "                                                                 \n",
            " block3_conv2 (Conv2D)       (None, None, None, 256)   590080    \n",
            "                                                                 \n",
            " block3_conv3 (Conv2D)       (None, None, None, 256)   590080    \n",
            "                                                                 \n",
            " block3_conv4 (Conv2D)       (None, None, None, 256)   590080    \n",
            "                                                                 \n",
            " block3_pool (MaxPooling2D)  (None, None, None, 256)   0         \n",
            "                                                                 \n",
            " block4_conv1 (Conv2D)       (None, None, None, 512)   1180160   \n",
            "                                                                 \n",
            " block4_conv2 (Conv2D)       (None, None, None, 512)   2359808   \n",
            "                                                                 \n",
            " block4_conv3 (Conv2D)       (None, None, None, 512)   2359808   \n",
            "                                                                 \n",
            " block4_conv4 (Conv2D)       (None, None, None, 512)   2359808   \n",
            "                                                                 \n",
            " block4_pool (MaxPooling2D)  (None, None, None, 512)   0         \n",
            "                                                                 \n",
            " block5_conv1 (Conv2D)       (None, None, None, 512)   2359808   \n",
            "                                                                 \n",
            " block5_conv2 (Conv2D)       (None, None, None, 512)   2359808   \n",
            "                                                                 \n",
            " block5_conv3 (Conv2D)       (None, None, None, 512)   2359808   \n",
            "                                                                 \n",
            " block5_conv4 (Conv2D)       (None, None, None, 512)   2359808   \n",
            "                                                                 \n",
            " block5_pool (MaxPooling2D)  (None, None, None, 512)   0         \n",
            "                                                                 \n",
            " global_average_pooling2d_6   (None, 512)              0         \n",
            " (GlobalAveragePooling2D)                                        \n",
            "                                                                 \n",
            " dense_12 (Dense)            (None, 128)               65664     \n",
            "                                                                 \n",
            " dense_13 (Dense)            (None, 3)                 387       \n",
            "                                                                 \n",
            "=================================================================\n",
            "Total params: 20,090,435\n",
            "Trainable params: 66,051\n",
            "Non-trainable params: 20,024,384\n",
            "_________________________________________________________________\n"
          ]
        }
      ],
      "source": [
        "x = conv_base.output\n",
        "x = layers.GlobalAveragePooling2D()(x)\n",
        "x = layers.Dense(128, activation='relu')(x) \n",
        "\n",
        "predictions = layers.Dense(qtde_classes, activation='softmax')(x)\n",
        "model = Model(conv_base.input, predictions)\n",
        "\n",
        "model.summary()"
      ]
    },
    {
      "cell_type": "code",
      "execution_count": 129,
      "metadata": {
        "id": "Q6Dn2UZ6VLcG"
      },
      "outputs": [],
      "source": [
        "optimizer = optimizers.Adam()\n",
        "model.compile(loss='categorical_crossentropy', optimizer=optimizer, metrics=[precision_score, recall_score, f1_score])"
      ]
    },
    {
      "cell_type": "code",
      "execution_count": 130,
      "metadata": {
        "id": "y6OYjmfoVLcG",
        "colab": {
          "base_uri": "https://localhost:8080/"
        },
        "outputId": "5c50b1b7-0a4e-4e0c-a6cb-24b491210ace"
      },
      "outputs": [
        {
          "output_type": "stream",
          "name": "stdout",
          "text": [
            "Epoch 1/10\n",
            "5/5 [==============================] - 6s 937ms/step - loss: 2.8994 - precision_score: 0.3346 - recall_score: 0.3250 - f1_score: 0.3297 - val_loss: 2.7882 - val_precision_score: 0.4589 - val_recall_score: 0.4437 - val_f1_score: 0.4510\n",
            "Epoch 2/10\n",
            "5/5 [==============================] - 4s 778ms/step - loss: 2.0882 - precision_score: 0.4160 - recall_score: 0.3875 - f1_score: 0.4009 - val_loss: 1.8076 - val_precision_score: 0.5476 - val_recall_score: 0.5312 - val_f1_score: 0.5390\n",
            "Epoch 3/10\n",
            "5/5 [==============================] - 4s 776ms/step - loss: 1.4854 - precision_score: 0.5252 - recall_score: 0.4903 - f1_score: 0.5069 - val_loss: 1.0884 - val_precision_score: 0.7163 - val_recall_score: 0.6687 - val_f1_score: 0.6911\n",
            "Epoch 4/10\n",
            "5/5 [==============================] - 4s 752ms/step - loss: 1.3717 - precision_score: 0.5467 - recall_score: 0.4875 - f1_score: 0.5147 - val_loss: 0.8518 - val_precision_score: 0.5482 - val_recall_score: 0.4938 - val_f1_score: 0.5192\n",
            "Epoch 5/10\n",
            "5/5 [==============================] - 4s 769ms/step - loss: 1.0976 - precision_score: 0.6325 - recall_score: 0.6069 - f1_score: 0.6191 - val_loss: 1.0302 - val_precision_score: 0.6937 - val_recall_score: 0.6625 - val_f1_score: 0.6774\n",
            "Epoch 6/10\n",
            "5/5 [==============================] - 4s 767ms/step - loss: 0.8041 - precision_score: 0.7151 - recall_score: 0.6562 - f1_score: 0.6840 - val_loss: 0.7595 - val_precision_score: 0.7781 - val_recall_score: 0.7375 - val_f1_score: 0.7569\n",
            "Epoch 7/10\n",
            "5/5 [==============================] - 4s 767ms/step - loss: 0.9007 - precision_score: 0.6250 - recall_score: 0.5813 - f1_score: 0.6021 - val_loss: 0.8170 - val_precision_score: 0.7691 - val_recall_score: 0.7125 - val_f1_score: 0.7388\n",
            "Epoch 8/10\n",
            "5/5 [==============================] - 4s 752ms/step - loss: 0.5849 - precision_score: 0.7691 - recall_score: 0.7194 - f1_score: 0.7430 - val_loss: 0.7992 - val_precision_score: 0.5574 - val_recall_score: 0.5188 - val_f1_score: 0.5372\n",
            "Epoch 9/10\n",
            "5/5 [==============================] - 4s 753ms/step - loss: 0.6349 - precision_score: 0.7614 - recall_score: 0.7194 - f1_score: 0.7397 - val_loss: 0.6337 - val_precision_score: 0.8228 - val_recall_score: 0.7750 - val_f1_score: 0.7977\n",
            "Epoch 10/10\n",
            "5/5 [==============================] - 4s 834ms/step - loss: 0.4998 - precision_score: 0.8520 - recall_score: 0.7715 - f1_score: 0.8093 - val_loss: 0.6387 - val_precision_score: 0.6292 - val_recall_score: 0.5750 - val_f1_score: 0.6008\n"
          ]
        }
      ],
      "source": [
        "history = model.fit(train_generator, epochs=qtde_epocas, validation_steps=5, steps_per_epoch=5, validation_data=val_generator)"
      ]
    },
    {
      "cell_type": "markdown",
      "metadata": {
        "id": "iCxsTOcYVLcG"
      },
      "source": [
        "Um modelo que converge bem possui o gráfico de perda (*loss*) descendente e os gráfico de precisão (*precision*), sensibilidade (*recall*) e pontuação f1 (*f1 score*) em acendente."
      ]
    },
    {
      "cell_type": "code",
      "execution_count": 131,
      "metadata": {
        "id": "8plR2RN8VLcG",
        "colab": {
          "base_uri": "https://localhost:8080/",
          "height": 1000
        },
        "outputId": "339c9258-c0d7-4829-831a-214ae4614083"
      },
      "outputs": [
        {
          "output_type": "display_data",
          "data": {
            "text/plain": [
              "<Figure size 432x288 with 1 Axes>"
            ],
            "image/png": "[encoded data removed]"
          },
          "metadata": {
            "needs_background": "light"
          }
        },
        {
          "output_type": "display_data",
          "data": {
            "text/plain": [
              "<Figure size 432x288 with 1 Axes>"
            ],
            "image/png": "[encoded data removed]"
          },
          "metadata": {
            "needs_background": "light"
          }
        },
        {
          "output_type": "display_data",
          "data": {
            "text/plain": [
              "<Figure size 432x288 with 1 Axes>"
            ],
            "image/png": "[encoded data removed]"
          },
          "metadata": {
            "needs_background": "light"
          }
        },
        {
          "output_type": "display_data",
          "data": {
            "text/plain": [
              "<Figure size 432x288 with 1 Axes>"
            ],
            "image/png": "[encoded data removed]"
          },
          "metadata": {
            "needs_background": "light"
          }
        }
      ],
      "source": [
        "# Exibindo dados de Precisão\n",
        "plt.plot(history.history['precision_score'])\n",
        "plt.plot(history.history['val_precision_score'])\n",
        "plt.title('model precision')\n",
        "plt.ylabel('precision')\n",
        "plt.xlabel('epoch')\n",
        "plt.legend(['train', 'test'], loc='upper left')\n",
        "plt.show()\n",
        "\n",
        "# Exibindo dados de Sensibilidade\n",
        "plt.plot(history.history['recall_score'])\n",
        "plt.plot(history.history['val_recall_score'])\n",
        "plt.title('model recall')\n",
        "plt.ylabel('recall')\n",
        "plt.xlabel('epoch')\n",
        "plt.legend(['train', 'test'], loc='upper left')\n",
        "plt.show()\n",
        "\n",
        "# Exibindo dados de F1 Score\n",
        "plt.plot(history.history['f1_score'])\n",
        "plt.plot(history.history['val_f1_score'])\n",
        "plt.title('model f1_score')\n",
        "plt.ylabel('f1_score')\n",
        "plt.xlabel('epoch')\n",
        "plt.legend(['train', 'test'], loc='upper left')\n",
        "plt.show()\n",
        "\n",
        "# Exibindo dados de Perda\n",
        "plt.plot(history.history['loss'])\n",
        "plt.plot(history.history['val_loss'])\n",
        "plt.title('model loss')\n",
        "plt.ylabel('loss')\n",
        "plt.xlabel('epoch')\n",
        "plt.legend(['train', 'test'], loc='upper left')\n",
        "plt.show()"
      ]
    },
    {
      "cell_type": "markdown",
      "metadata": {
        "id": "bSEhlbaiVLcH"
      },
      "source": [
        "**Pergunta**: Avalie os gráficos de perda (*loss*), precisão (*precision*), sensibilidade (*recall*) e pontuação f1 (*f1 score*)  e explique o comportamento de ambos no que tange a convergência do modelo."
      ]
    },
    {
      "cell_type": "markdown",
      "metadata": {
        "id": "8yZN_TrCVLcH"
      },
      "source": [
        "**Resposta**:"
      ]
    },
    {
      "cell_type": "markdown",
      "metadata": {
        "id": "J6ekdZrcVLcH"
      },
      "source": [
        "**Pergunta**: Quais são os valores de **precisão (precision)**, **sensibilidade (recall)** de validação? \n",
        "\n",
        "*Estes valores são exibidos durante o treinamento, utilize a última saída, exemplo:*\n",
        "\n",
        "```\n",
        "Epoch 10/10 [==============================] - 45s 9s/step - loss: 0.1234 - precision_score: 0.9742 - recall_score: 0.9683 - f1_score: 0.9712 - val_loss: 0.8819 - val_precision_score: 0.6912 - val_recall_score: 0.5649 - val_f1_score: 0.6216```\n",
        "\n",
        "No caso acima, o valor de precisão, sensibilidade e pontuação de validação são, respectivamente, 69,12%, 56,49% e 62,16%."
      ]
    },
    {
      "cell_type": "markdown",
      "metadata": {
        "id": "1tS22c-lVLcI"
      },
      "source": [
        "**Resposta**:"
      ]
    },
    {
      "cell_type": "markdown",
      "metadata": {
        "id": "qXdzgSN_VLcI"
      },
      "source": [
        "## 4.6 Compartivo de arquiteturas\n",
        "\n",
        "Preencha a tabela abaixo com os valores dos indicadores de performance apresentados.\n",
        "\n",
        "_O cálculo do F1-Score é dado por 2 * (Precisão * Sensibilidade) / (Precisão + Sensibilidade)._"
      ]
    },
    {
      "cell_type": "markdown",
      "metadata": {
        "id": "tYkpy5LoVLcI"
      },
      "source": [
        "| Modelo   | Precisão (*Precision*) | Sensibilidade (*Recall*) | F1-Score |\n",
        "|----------|----------|---------------|----------|\n",
        "| ResNet50 | XX %     | XX %          | XX %     |\n",
        "| VGG16    | XX %     | XX %          | XX %     |\n",
        "| VGG19    | XX %     | XX %          | XX %     |"
      ]
    },
    {
      "cell_type": "markdown",
      "metadata": {
        "id": "Lxk93_LTVLcI"
      },
      "source": [
        "## 4.7 Conclusões\n",
        "\n",
        "Analise os resultados da tabela de indicadores do comparativo de arquiteturas e explique os principais motivos pelos quais cada modelo obteve cada resultado."
      ]
    },
    {
      "cell_type": "markdown",
      "metadata": {
        "id": "je2bWP9mVLcJ"
      },
      "source": [
        "**Respota**:"
      ]
    },
    {
      "cell_type": "markdown",
      "metadata": {
        "id": "_CSvMZbRVLcJ"
      },
      "source": [
        "## 4.8 Abordagem adicional (obrigatório)\n",
        "\n",
        "Considerando os outros classificadores, escolha outro que ainda não foi utilizado, implemente abaixo. Ao final compare os resultados e explique os resultados.\n",
        "\n",
        "_Não se esquece de utilizar as importações adequadas para cada modelo.\n",
        "A forma de implementação deve respeitar as mesmas condições como valor de split e quantidade de imagens para poder comparar os modelos._"
      ]
    },
    {
      "cell_type": "markdown",
      "source": [
        "###Arquitetura Xception"
      ],
      "metadata": {
        "id": "i58vW4h5xSN7"
      }
    },
    {
      "cell_type": "code",
      "execution_count": 132,
      "metadata": {
        "id": "ijaXW2ogVLcJ"
      },
      "outputs": [],
      "source": [
        "conv_base = Xception(include_top=False)\n",
        "\n",
        "for layer in conv_base.layers:\n",
        "    layer.trainable = False"
      ]
    },
    {
      "cell_type": "code",
      "source": [
        "x = conv_base.output\n",
        "x = layers.GlobalAveragePooling2D()(x)\n",
        "x = layers.Dense(128, activation='relu')(x) \n",
        "\n",
        "predictions = layers.Dense(qtde_classes, activation='softmax')(x)\n",
        "model = Model(conv_base.input, predictions)\n",
        "\n",
        "model.summary()"
      ],
      "metadata": {
        "colab": {
          "base_uri": "https://localhost:8080/"
        },
        "id": "yu5D-hwgyF77",
        "outputId": "d6d7d3e6-d836-46c4-df4a-925034eec265"
      },
      "execution_count": 133,
      "outputs": [
        {
          "output_type": "stream",
          "name": "stdout",
          "text": [
            "Model: \"model_7\"\n",
            "__________________________________________________________________________________________________\n",
            " Layer (type)                   Output Shape         Param #     Connected to                     \n",
            "==================================================================================================\n",
            " input_8 (InputLayer)           [(None, None, None,  0           []                               \n",
            "                                 3)]                                                              \n",
            "                                                                                                  \n",
            " block1_conv1 (Conv2D)          (None, None, None,   864         ['input_8[0][0]']                \n",
            "                                32)                                                               \n",
            "                                                                                                  \n",
            " block1_conv1_bn (BatchNormaliz  (None, None, None,   128        ['block1_conv1[0][0]']           \n",
            " ation)                         32)                                                               \n",
            "                                                                                                  \n",
            " block1_conv1_act (Activation)  (None, None, None,   0           ['block1_conv1_bn[0][0]']        \n",
            "                                32)                                                               \n",
            "                                                                                                  \n",
            " block1_conv2 (Conv2D)          (None, None, None,   18432       ['block1_conv1_act[0][0]']       \n",
            "                                64)                                                               \n",
            "                                                                                                  \n",
            " block1_conv2_bn (BatchNormaliz  (None, None, None,   256        ['block1_conv2[0][0]']           \n",
            " ation)                         64)                                                               \n",
            "                                                                                                  \n",
            " block1_conv2_act (Activation)  (None, None, None,   0           ['block1_conv2_bn[0][0]']        \n",
            "                                64)                                                               \n",
            "                                                                                                  \n",
            " block2_sepconv1 (SeparableConv  (None, None, None,   8768       ['block1_conv2_act[0][0]']       \n",
            " 2D)                            128)                                                              \n",
            "                                                                                                  \n",
            " block2_sepconv1_bn (BatchNorma  (None, None, None,   512        ['block2_sepconv1[0][0]']        \n",
            " lization)                      128)                                                              \n",
            "                                                                                                  \n",
            " block2_sepconv2_act (Activatio  (None, None, None,   0          ['block2_sepconv1_bn[0][0]']     \n",
            " n)                             128)                                                              \n",
            "                                                                                                  \n",
            " block2_sepconv2 (SeparableConv  (None, None, None,   17536      ['block2_sepconv2_act[0][0]']    \n",
            " 2D)                            128)                                                              \n",
            "                                                                                                  \n",
            " block2_sepconv2_bn (BatchNorma  (None, None, None,   512        ['block2_sepconv2[0][0]']        \n",
            " lization)                      128)                                                              \n",
            "                                                                                                  \n",
            " conv2d_4 (Conv2D)              (None, None, None,   8192        ['block1_conv2_act[0][0]']       \n",
            "                                128)                                                              \n",
            "                                                                                                  \n",
            " block2_pool (MaxPooling2D)     (None, None, None,   0           ['block2_sepconv2_bn[0][0]']     \n",
            "                                128)                                                              \n",
            "                                                                                                  \n",
            " batch_normalization_4 (BatchNo  (None, None, None,   512        ['conv2d_4[0][0]']               \n",
            " rmalization)                   128)                                                              \n",
            "                                                                                                  \n",
            " add_12 (Add)                   (None, None, None,   0           ['block2_pool[0][0]',            \n",
            "                                128)                              'batch_normalization_4[0][0]']  \n",
            "                                                                                                  \n",
            " block3_sepconv1_act (Activatio  (None, None, None,   0          ['add_12[0][0]']                 \n",
            " n)                             128)                                                              \n",
            "                                                                                                  \n",
            " block3_sepconv1 (SeparableConv  (None, None, None,   33920      ['block3_sepconv1_act[0][0]']    \n",
            " 2D)                            256)                                                              \n",
            "                                                                                                  \n",
            " block3_sepconv1_bn (BatchNorma  (None, None, None,   1024       ['block3_sepconv1[0][0]']        \n",
            " lization)                      256)                                                              \n",
            "                                                                                                  \n",
            " block3_sepconv2_act (Activatio  (None, None, None,   0          ['block3_sepconv1_bn[0][0]']     \n",
            " n)                             256)                                                              \n",
            "                                                                                                  \n",
            " block3_sepconv2 (SeparableConv  (None, None, None,   67840      ['block3_sepconv2_act[0][0]']    \n",
            " 2D)                            256)                                                              \n",
            "                                                                                                  \n",
            " block3_sepconv2_bn (BatchNorma  (None, None, None,   1024       ['block3_sepconv2[0][0]']        \n",
            " lization)                      256)                                                              \n",
            "                                                                                                  \n",
            " conv2d_5 (Conv2D)              (None, None, None,   32768       ['add_12[0][0]']                 \n",
            "                                256)                                                              \n",
            "                                                                                                  \n",
            " block3_pool (MaxPooling2D)     (None, None, None,   0           ['block3_sepconv2_bn[0][0]']     \n",
            "                                256)                                                              \n",
            "                                                                                                  \n",
            " batch_normalization_5 (BatchNo  (None, None, None,   1024       ['conv2d_5[0][0]']               \n",
            " rmalization)                   256)                                                              \n",
            "                                                                                                  \n",
            " add_13 (Add)                   (None, None, None,   0           ['block3_pool[0][0]',            \n",
            "                                256)                              'batch_normalization_5[0][0]']  \n",
            "                                                                                                  \n",
            " block4_sepconv1_act (Activatio  (None, None, None,   0          ['add_13[0][0]']                 \n",
            " n)                             256)                                                              \n",
            "                                                                                                  \n",
            " block4_sepconv1 (SeparableConv  (None, None, None,   188672     ['block4_sepconv1_act[0][0]']    \n",
            " 2D)                            728)                                                              \n",
            "                                                                                                  \n",
            " block4_sepconv1_bn (BatchNorma  (None, None, None,   2912       ['block4_sepconv1[0][0]']        \n",
            " lization)                      728)                                                              \n",
            "                                                                                                  \n",
            " block4_sepconv2_act (Activatio  (None, None, None,   0          ['block4_sepconv1_bn[0][0]']     \n",
            " n)                             728)                                                              \n",
            "                                                                                                  \n",
            " block4_sepconv2 (SeparableConv  (None, None, None,   536536     ['block4_sepconv2_act[0][0]']    \n",
            " 2D)                            728)                                                              \n",
            "                                                                                                  \n",
            " block4_sepconv2_bn (BatchNorma  (None, None, None,   2912       ['block4_sepconv2[0][0]']        \n",
            " lization)                      728)                                                              \n",
            "                                                                                                  \n",
            " conv2d_6 (Conv2D)              (None, None, None,   186368      ['add_13[0][0]']                 \n",
            "                                728)                                                              \n",
            "                                                                                                  \n",
            " block4_pool (MaxPooling2D)     (None, None, None,   0           ['block4_sepconv2_bn[0][0]']     \n",
            "                                728)                                                              \n",
            "                                                                                                  \n",
            " batch_normalization_6 (BatchNo  (None, None, None,   2912       ['conv2d_6[0][0]']               \n",
            " rmalization)                   728)                                                              \n",
            "                                                                                                  \n",
            " add_14 (Add)                   (None, None, None,   0           ['block4_pool[0][0]',            \n",
            "                                728)                              'batch_normalization_6[0][0]']  \n",
            "                                                                                                  \n",
            " block5_sepconv1_act (Activatio  (None, None, None,   0          ['add_14[0][0]']                 \n",
            " n)                             728)                                                              \n",
            "                                                                                                  \n",
            " block5_sepconv1 (SeparableConv  (None, None, None,   536536     ['block5_sepconv1_act[0][0]']    \n",
            " 2D)                            728)                                                              \n",
            "                                                                                                  \n",
            " block5_sepconv1_bn (BatchNorma  (None, None, None,   2912       ['block5_sepconv1[0][0]']        \n",
            " lization)                      728)                                                              \n",
            "                                                                                                  \n",
            " block5_sepconv2_act (Activatio  (None, None, None,   0          ['block5_sepconv1_bn[0][0]']     \n",
            " n)                             728)                                                              \n",
            "                                                                                                  \n",
            " block5_sepconv2 (SeparableConv  (None, None, None,   536536     ['block5_sepconv2_act[0][0]']    \n",
            " 2D)                            728)                                                              \n",
            "                                                                                                  \n",
            " block5_sepconv2_bn (BatchNorma  (None, None, None,   2912       ['block5_sepconv2[0][0]']        \n",
            " lization)                      728)                                                              \n",
            "                                                                                                  \n",
            " block5_sepconv3_act (Activatio  (None, None, None,   0          ['block5_sepconv2_bn[0][0]']     \n",
            " n)                             728)                                                              \n",
            "                                                                                                  \n",
            " block5_sepconv3 (SeparableConv  (None, None, None,   536536     ['block5_sepconv3_act[0][0]']    \n",
            " 2D)                            728)                                                              \n",
            "                                                                                                  \n",
            " block5_sepconv3_bn (BatchNorma  (None, None, None,   2912       ['block5_sepconv3[0][0]']        \n",
            " lization)                      728)                                                              \n",
            "                                                                                                  \n",
            " add_15 (Add)                   (None, None, None,   0           ['block5_sepconv3_bn[0][0]',     \n",
            "                                728)                              'add_14[0][0]']                 \n",
            "                                                                                                  \n",
            " block6_sepconv1_act (Activatio  (None, None, None,   0          ['add_15[0][0]']                 \n",
            " n)                             728)                                                              \n",
            "                                                                                                  \n",
            " block6_sepconv1 (SeparableConv  (None, None, None,   536536     ['block6_sepconv1_act[0][0]']    \n",
            " 2D)                            728)                                                              \n",
            "                                                                                                  \n",
            " block6_sepconv1_bn (BatchNorma  (None, None, None,   2912       ['block6_sepconv1[0][0]']        \n",
            " lization)                      728)                                                              \n",
            "                                                                                                  \n",
            " block6_sepconv2_act (Activatio  (None, None, None,   0          ['block6_sepconv1_bn[0][0]']     \n",
            " n)                             728)                                                              \n",
            "                                                                                                  \n",
            " block6_sepconv2 (SeparableConv  (None, None, None,   536536     ['block6_sepconv2_act[0][0]']    \n",
            " 2D)                            728)                                                              \n",
            "                                                                                                  \n",
            " block6_sepconv2_bn (BatchNorma  (None, None, None,   2912       ['block6_sepconv2[0][0]']        \n",
            " lization)                      728)                                                              \n",
            "                                                                                                  \n",
            " block6_sepconv3_act (Activatio  (None, None, None,   0          ['block6_sepconv2_bn[0][0]']     \n",
            " n)                             728)                                                              \n",
            "                                                                                                  \n",
            " block6_sepconv3 (SeparableConv  (None, None, None,   536536     ['block6_sepconv3_act[0][0]']    \n",
            " 2D)                            728)                                                              \n",
            "                                                                                                  \n",
            " block6_sepconv3_bn (BatchNorma  (None, None, None,   2912       ['block6_sepconv3[0][0]']        \n",
            " lization)                      728)                                                              \n",
            "                                                                                                  \n",
            " add_16 (Add)                   (None, None, None,   0           ['block6_sepconv3_bn[0][0]',     \n",
            "                                728)                              'add_15[0][0]']                 \n",
            "                                                                                                  \n",
            " block7_sepconv1_act (Activatio  (None, None, None,   0          ['add_16[0][0]']                 \n",
            " n)                             728)                                                              \n",
            "                                                                                                  \n",
            " block7_sepconv1 (SeparableConv  (None, None, None,   536536     ['block7_sepconv1_act[0][0]']    \n",
            " 2D)                            728)                                                              \n",
            "                                                                                                  \n",
            " block7_sepconv1_bn (BatchNorma  (None, None, None,   2912       ['block7_sepconv1[0][0]']        \n",
            " lization)                      728)                                                              \n",
            "                                                                                                  \n",
            " block7_sepconv2_act (Activatio  (None, None, None,   0          ['block7_sepconv1_bn[0][0]']     \n",
            " n)                             728)                                                              \n",
            "                                                                                                  \n",
            " block7_sepconv2 (SeparableConv  (None, None, None,   536536     ['block7_sepconv2_act[0][0]']    \n",
            " 2D)                            728)                                                              \n",
            "                                                                                                  \n",
            " block7_sepconv2_bn (BatchNorma  (None, None, None,   2912       ['block7_sepconv2[0][0]']        \n",
            " lization)                      728)                                                              \n",
            "                                                                                                  \n",
            " block7_sepconv3_act (Activatio  (None, None, None,   0          ['block7_sepconv2_bn[0][0]']     \n",
            " n)                             728)                                                              \n",
            "                                                                                                  \n",
            " block7_sepconv3 (SeparableConv  (None, None, None,   536536     ['block7_sepconv3_act[0][0]']    \n",
            " 2D)                            728)                                                              \n",
            "                                                                                                  \n",
            " block7_sepconv3_bn (BatchNorma  (None, None, None,   2912       ['block7_sepconv3[0][0]']        \n",
            " lization)                      728)                                                              \n",
            "                                                                                                  \n",
            " add_17 (Add)                   (None, None, None,   0           ['block7_sepconv3_bn[0][0]',     \n",
            "                                728)                              'add_16[0][0]']                 \n",
            "                                                                                                  \n",
            " block8_sepconv1_act (Activatio  (None, None, None,   0          ['add_17[0][0]']                 \n",
            " n)                             728)                                                              \n",
            "                                                                                                  \n",
            " block8_sepconv1 (SeparableConv  (None, None, None,   536536     ['block8_sepconv1_act[0][0]']    \n",
            " 2D)                            728)                                                              \n",
            "                                                                                                  \n",
            " block8_sepconv1_bn (BatchNorma  (None, None, None,   2912       ['block8_sepconv1[0][0]']        \n",
            " lization)                      728)                                                              \n",
            "                                                                                                  \n",
            " block8_sepconv2_act (Activatio  (None, None, None,   0          ['block8_sepconv1_bn[0][0]']     \n",
            " n)                             728)                                                              \n",
            "                                                                                                  \n",
            " block8_sepconv2 (SeparableConv  (None, None, None,   536536     ['block8_sepconv2_act[0][0]']    \n",
            " 2D)                            728)                                                              \n",
            "                                                                                                  \n",
            " block8_sepconv2_bn (BatchNorma  (None, None, None,   2912       ['block8_sepconv2[0][0]']        \n",
            " lization)                      728)                                                              \n",
            "                                                                                                  \n",
            " block8_sepconv3_act (Activatio  (None, None, None,   0          ['block8_sepconv2_bn[0][0]']     \n",
            " n)                             728)                                                              \n",
            "                                                                                                  \n",
            " block8_sepconv3 (SeparableConv  (None, None, None,   536536     ['block8_sepconv3_act[0][0]']    \n",
            " 2D)                            728)                                                              \n",
            "                                                                                                  \n",
            " block8_sepconv3_bn (BatchNorma  (None, None, None,   2912       ['block8_sepconv3[0][0]']        \n",
            " lization)                      728)                                                              \n",
            "                                                                                                  \n",
            " add_18 (Add)                   (None, None, None,   0           ['block8_sepconv3_bn[0][0]',     \n",
            "                                728)                              'add_17[0][0]']                 \n",
            "                                                                                                  \n",
            " block9_sepconv1_act (Activatio  (None, None, None,   0          ['add_18[0][0]']                 \n",
            " n)                             728)                                                              \n",
            "                                                                                                  \n",
            " block9_sepconv1 (SeparableConv  (None, None, None,   536536     ['block9_sepconv1_act[0][0]']    \n",
            " 2D)                            728)                                                              \n",
            "                                                                                                  \n",
            " block9_sepconv1_bn (BatchNorma  (None, None, None,   2912       ['block9_sepconv1[0][0]']        \n",
            " lization)                      728)                                                              \n",
            "                                                                                                  \n",
            " block9_sepconv2_act (Activatio  (None, None, None,   0          ['block9_sepconv1_bn[0][0]']     \n",
            " n)                             728)                                                              \n",
            "                                                                                                  \n",
            " block9_sepconv2 (SeparableConv  (None, None, None,   536536     ['block9_sepconv2_act[0][0]']    \n",
            " 2D)                            728)                                                              \n",
            "                                                                                                  \n",
            " block9_sepconv2_bn (BatchNorma  (None, None, None,   2912       ['block9_sepconv2[0][0]']        \n",
            " lization)                      728)                                                              \n",
            "                                                                                                  \n",
            " block9_sepconv3_act (Activatio  (None, None, None,   0          ['block9_sepconv2_bn[0][0]']     \n",
            " n)                             728)                                                              \n",
            "                                                                                                  \n",
            " block9_sepconv3 (SeparableConv  (None, None, None,   536536     ['block9_sepconv3_act[0][0]']    \n",
            " 2D)                            728)                                                              \n",
            "                                                                                                  \n",
            " block9_sepconv3_bn (BatchNorma  (None, None, None,   2912       ['block9_sepconv3[0][0]']        \n",
            " lization)                      728)                                                              \n",
            "                                                                                                  \n",
            " add_19 (Add)                   (None, None, None,   0           ['block9_sepconv3_bn[0][0]',     \n",
            "                                728)                              'add_18[0][0]']                 \n",
            "                                                                                                  \n",
            " block10_sepconv1_act (Activati  (None, None, None,   0          ['add_19[0][0]']                 \n",
            " on)                            728)                                                              \n",
            "                                                                                                  \n",
            " block10_sepconv1 (SeparableCon  (None, None, None,   536536     ['block10_sepconv1_act[0][0]']   \n",
            " v2D)                           728)                                                              \n",
            "                                                                                                  \n",
            " block10_sepconv1_bn (BatchNorm  (None, None, None,   2912       ['block10_sepconv1[0][0]']       \n",
            " alization)                     728)                                                              \n",
            "                                                                                                  \n",
            " block10_sepconv2_act (Activati  (None, None, None,   0          ['block10_sepconv1_bn[0][0]']    \n",
            " on)                            728)                                                              \n",
            "                                                                                                  \n",
            " block10_sepconv2 (SeparableCon  (None, None, None,   536536     ['block10_sepconv2_act[0][0]']   \n",
            " v2D)                           728)                                                              \n",
            "                                                                                                  \n",
            " block10_sepconv2_bn (BatchNorm  (None, None, None,   2912       ['block10_sepconv2[0][0]']       \n",
            " alization)                     728)                                                              \n",
            "                                                                                                  \n",
            " block10_sepconv3_act (Activati  (None, None, None,   0          ['block10_sepconv2_bn[0][0]']    \n",
            " on)                            728)                                                              \n",
            "                                                                                                  \n",
            " block10_sepconv3 (SeparableCon  (None, None, None,   536536     ['block10_sepconv3_act[0][0]']   \n",
            " v2D)                           728)                                                              \n",
            "                                                                                                  \n",
            " block10_sepconv3_bn (BatchNorm  (None, None, None,   2912       ['block10_sepconv3[0][0]']       \n",
            " alization)                     728)                                                              \n",
            "                                                                                                  \n",
            " add_20 (Add)                   (None, None, None,   0           ['block10_sepconv3_bn[0][0]',    \n",
            "                                728)                              'add_19[0][0]']                 \n",
            "                                                                                                  \n",
            " block11_sepconv1_act (Activati  (None, None, None,   0          ['add_20[0][0]']                 \n",
            " on)                            728)                                                              \n",
            "                                                                                                  \n",
            " block11_sepconv1 (SeparableCon  (None, None, None,   536536     ['block11_sepconv1_act[0][0]']   \n",
            " v2D)                           728)                                                              \n",
            "                                                                                                  \n",
            " block11_sepconv1_bn (BatchNorm  (None, None, None,   2912       ['block11_sepconv1[0][0]']       \n",
            " alization)                     728)                                                              \n",
            "                                                                                                  \n",
            " block11_sepconv2_act (Activati  (None, None, None,   0          ['block11_sepconv1_bn[0][0]']    \n",
            " on)                            728)                                                              \n",
            "                                                                                                  \n",
            " block11_sepconv2 (SeparableCon  (None, None, None,   536536     ['block11_sepconv2_act[0][0]']   \n",
            " v2D)                           728)                                                              \n",
            "                                                                                                  \n",
            " block11_sepconv2_bn (BatchNorm  (None, None, None,   2912       ['block11_sepconv2[0][0]']       \n",
            " alization)                     728)                                                              \n",
            "                                                                                                  \n",
            " block11_sepconv3_act (Activati  (None, None, None,   0          ['block11_sepconv2_bn[0][0]']    \n",
            " on)                            728)                                                              \n",
            "                                                                                                  \n",
            " block11_sepconv3 (SeparableCon  (None, None, None,   536536     ['block11_sepconv3_act[0][0]']   \n",
            " v2D)                           728)                                                              \n",
            "                                                                                                  \n",
            " block11_sepconv3_bn (BatchNorm  (None, None, None,   2912       ['block11_sepconv3[0][0]']       \n",
            " alization)                     728)                                                              \n",
            "                                                                                                  \n",
            " add_21 (Add)                   (None, None, None,   0           ['block11_sepconv3_bn[0][0]',    \n",
            "                                728)                              'add_20[0][0]']                 \n",
            "                                                                                                  \n",
            " block12_sepconv1_act (Activati  (None, None, None,   0          ['add_21[0][0]']                 \n",
            " on)                            728)                                                              \n",
            "                                                                                                  \n",
            " block12_sepconv1 (SeparableCon  (None, None, None,   536536     ['block12_sepconv1_act[0][0]']   \n",
            " v2D)                           728)                                                              \n",
            "                                                                                                  \n",
            " block12_sepconv1_bn (BatchNorm  (None, None, None,   2912       ['block12_sepconv1[0][0]']       \n",
            " alization)                     728)                                                              \n",
            "                                                                                                  \n",
            " block12_sepconv2_act (Activati  (None, None, None,   0          ['block12_sepconv1_bn[0][0]']    \n",
            " on)                            728)                                                              \n",
            "                                                                                                  \n",
            " block12_sepconv2 (SeparableCon  (None, None, None,   536536     ['block12_sepconv2_act[0][0]']   \n",
            " v2D)                           728)                                                              \n",
            "                                                                                                  \n",
            " block12_sepconv2_bn (BatchNorm  (None, None, None,   2912       ['block12_sepconv2[0][0]']       \n",
            " alization)                     728)                                                              \n",
            "                                                                                                  \n",
            " block12_sepconv3_act (Activati  (None, None, None,   0          ['block12_sepconv2_bn[0][0]']    \n",
            " on)                            728)                                                              \n",
            "                                                                                                  \n",
            " block12_sepconv3 (SeparableCon  (None, None, None,   536536     ['block12_sepconv3_act[0][0]']   \n",
            " v2D)                           728)                                                              \n",
            "                                                                                                  \n",
            " block12_sepconv3_bn (BatchNorm  (None, None, None,   2912       ['block12_sepconv3[0][0]']       \n",
            " alization)                     728)                                                              \n",
            "                                                                                                  \n",
            " add_22 (Add)                   (None, None, None,   0           ['block12_sepconv3_bn[0][0]',    \n",
            "                                728)                              'add_21[0][0]']                 \n",
            "                                                                                                  \n",
            " block13_sepconv1_act (Activati  (None, None, None,   0          ['add_22[0][0]']                 \n",
            " on)                            728)                                                              \n",
            "                                                                                                  \n",
            " block13_sepconv1 (SeparableCon  (None, None, None,   536536     ['block13_sepconv1_act[0][0]']   \n",
            " v2D)                           728)                                                              \n",
            "                                                                                                  \n",
            " block13_sepconv1_bn (BatchNorm  (None, None, None,   2912       ['block13_sepconv1[0][0]']       \n",
            " alization)                     728)                                                              \n",
            "                                                                                                  \n",
            " block13_sepconv2_act (Activati  (None, None, None,   0          ['block13_sepconv1_bn[0][0]']    \n",
            " on)                            728)                                                              \n",
            "                                                                                                  \n",
            " block13_sepconv2 (SeparableCon  (None, None, None,   752024     ['block13_sepconv2_act[0][0]']   \n",
            " v2D)                           1024)                                                             \n",
            "                                                                                                  \n",
            " block13_sepconv2_bn (BatchNorm  (None, None, None,   4096       ['block13_sepconv2[0][0]']       \n",
            " alization)                     1024)                                                             \n",
            "                                                                                                  \n",
            " conv2d_7 (Conv2D)              (None, None, None,   745472      ['add_22[0][0]']                 \n",
            "                                1024)                                                             \n",
            "                                                                                                  \n",
            " block13_pool (MaxPooling2D)    (None, None, None,   0           ['block13_sepconv2_bn[0][0]']    \n",
            "                                1024)                                                             \n",
            "                                                                                                  \n",
            " batch_normalization_7 (BatchNo  (None, None, None,   4096       ['conv2d_7[0][0]']               \n",
            " rmalization)                   1024)                                                             \n",
            "                                                                                                  \n",
            " add_23 (Add)                   (None, None, None,   0           ['block13_pool[0][0]',           \n",
            "                                1024)                             'batch_normalization_7[0][0]']  \n",
            "                                                                                                  \n",
            " block14_sepconv1 (SeparableCon  (None, None, None,   1582080    ['add_23[0][0]']                 \n",
            " v2D)                           1536)                                                             \n",
            "                                                                                                  \n",
            " block14_sepconv1_bn (BatchNorm  (None, None, None,   6144       ['block14_sepconv1[0][0]']       \n",
            " alization)                     1536)                                                             \n",
            "                                                                                                  \n",
            " block14_sepconv1_act (Activati  (None, None, None,   0          ['block14_sepconv1_bn[0][0]']    \n",
            " on)                            1536)                                                             \n",
            "                                                                                                  \n",
            " block14_sepconv2 (SeparableCon  (None, None, None,   3159552    ['block14_sepconv1_act[0][0]']   \n",
            " v2D)                           2048)                                                             \n",
            "                                                                                                  \n",
            " block14_sepconv2_bn (BatchNorm  (None, None, None,   8192       ['block14_sepconv2[0][0]']       \n",
            " alization)                     2048)                                                             \n",
            "                                                                                                  \n",
            " block14_sepconv2_act (Activati  (None, None, None,   0          ['block14_sepconv2_bn[0][0]']    \n",
            " on)                            2048)                                                             \n",
            "                                                                                                  \n",
            " global_average_pooling2d_7 (Gl  (None, 2048)        0           ['block14_sepconv2_act[0][0]']   \n",
            " obalAveragePooling2D)                                                                            \n",
            "                                                                                                  \n",
            " dense_14 (Dense)               (None, 128)          262272      ['global_average_pooling2d_7[0][0\n",
            "                                                                 ]']                              \n",
            "                                                                                                  \n",
            " dense_15 (Dense)               (None, 3)            387         ['dense_14[0][0]']               \n",
            "                                                                                                  \n",
            "==================================================================================================\n",
            "Total params: 21,124,139\n",
            "Trainable params: 262,659\n",
            "Non-trainable params: 20,861,480\n",
            "__________________________________________________________________________________________________\n"
          ]
        }
      ]
    },
    {
      "cell_type": "code",
      "source": [
        "optimizer = optimizers.Adam()\n",
        "model.compile(loss='categorical_crossentropy', optimizer=optimizer, metrics=[precision_score, recall_score, f1_score])"
      ],
      "metadata": {
        "id": "XZCOYSTGyKnt"
      },
      "execution_count": 134,
      "outputs": []
    },
    {
      "cell_type": "code",
      "source": [
        "history = model.fit(train_generator, epochs=qtde_epocas, validation_steps=5, steps_per_epoch=5, validation_data=val_generator)"
      ],
      "metadata": {
        "colab": {
          "base_uri": "https://localhost:8080/"
        },
        "id": "NReFoPv9yPFu",
        "outputId": "d4eb7de8-2a8e-45d8-fec0-941051f0a642"
      },
      "execution_count": 135,
      "outputs": [
        {
          "output_type": "stream",
          "name": "stdout",
          "text": [
            "Epoch 1/10\n",
            "5/5 [==============================] - 8s 1s/step - loss: 16.5632 - precision_score: 0.4125 - recall_score: 0.4125 - f1_score: 0.4125 - val_loss: 5.0972 - val_precision_score: 0.6284 - val_recall_score: 0.6250 - val_f1_score: 0.6267\n",
            "Epoch 2/10\n",
            "5/5 [==============================] - 3s 739ms/step - loss: 10.2193 - precision_score: 0.3951 - recall_score: 0.3951 - f1_score: 0.3951 - val_loss: 6.3709 - val_precision_score: 0.4224 - val_recall_score: 0.4187 - val_f1_score: 0.4205\n",
            "Epoch 3/10\n",
            "5/5 [==============================] - 3s 723ms/step - loss: 6.4433 - precision_score: 0.4611 - recall_score: 0.4611 - f1_score: 0.4611 - val_loss: 5.0238 - val_precision_score: 0.4782 - val_recall_score: 0.4750 - val_f1_score: 0.4766\n",
            "Epoch 4/10\n",
            "5/5 [==============================] - 3s 732ms/step - loss: 5.3304 - precision_score: 0.4750 - recall_score: 0.4750 - f1_score: 0.4750 - val_loss: 3.0345 - val_precision_score: 0.6593 - val_recall_score: 0.6562 - val_f1_score: 0.6577\n",
            "Epoch 5/10\n",
            "5/5 [==============================] - 3s 727ms/step - loss: 4.1053 - precision_score: 0.5111 - recall_score: 0.5063 - f1_score: 0.5086 - val_loss: 1.8210 - val_precision_score: 0.7833 - val_recall_score: 0.7688 - val_f1_score: 0.7759\n",
            "Epoch 6/10\n",
            "5/5 [==============================] - 3s 722ms/step - loss: 3.1310 - precision_score: 0.5918 - recall_score: 0.5806 - f1_score: 0.5861 - val_loss: 1.5778 - val_precision_score: 0.5609 - val_recall_score: 0.5562 - val_f1_score: 0.5585\n",
            "Epoch 7/10\n",
            "5/5 [==============================] - 3s 753ms/step - loss: 2.2835 - precision_score: 0.5879 - recall_score: 0.5847 - f1_score: 0.5863 - val_loss: 1.5739 - val_precision_score: 0.7426 - val_recall_score: 0.7250 - val_f1_score: 0.7336\n",
            "Epoch 8/10\n",
            "5/5 [==============================] - 3s 777ms/step - loss: 1.7621 - precision_score: 0.7086 - recall_score: 0.6771 - f1_score: 0.6921 - val_loss: 2.1730 - val_precision_score: 0.7272 - val_recall_score: 0.7188 - val_f1_score: 0.7229\n",
            "Epoch 9/10\n",
            "5/5 [==============================] - 3s 751ms/step - loss: 2.6371 - precision_score: 0.6344 - recall_score: 0.6257 - f1_score: 0.6299 - val_loss: 1.9445 - val_precision_score: 0.7349 - val_recall_score: 0.7312 - val_f1_score: 0.7330\n",
            "Epoch 10/10\n",
            "5/5 [==============================] - 3s 715ms/step - loss: 2.4119 - precision_score: 0.5674 - recall_score: 0.5674 - f1_score: 0.5674 - val_loss: 1.7517 - val_precision_score: 0.7596 - val_recall_score: 0.7500 - val_f1_score: 0.7546\n"
          ]
        }
      ]
    },
    {
      "cell_type": "code",
      "source": [
        "# Exibindo dados de Precisão\n",
        "plt.plot(history.history['precision_score'])\n",
        "plt.plot(history.history['val_precision_score'])\n",
        "plt.title('model precision')\n",
        "plt.ylabel('precision')\n",
        "plt.xlabel('epoch')\n",
        "plt.legend(['train', 'test'], loc='upper left')\n",
        "plt.show()\n",
        "\n",
        "# Exibindo dados de Sensibilidade\n",
        "plt.plot(history.history['recall_score'])\n",
        "plt.plot(history.history['val_recall_score'])\n",
        "plt.title('model recall')\n",
        "plt.ylabel('recall')\n",
        "plt.xlabel('epoch')\n",
        "plt.legend(['train', 'test'], loc='upper left')\n",
        "plt.show()\n",
        "\n",
        "# Exibindo dados de F1 Score\n",
        "plt.plot(history.history['f1_score'])\n",
        "plt.plot(history.history['val_f1_score'])\n",
        "plt.title('model f1_score')\n",
        "plt.ylabel('f1_score')\n",
        "plt.xlabel('epoch')\n",
        "plt.legend(['train', 'test'], loc='upper left')\n",
        "plt.show()\n",
        "\n",
        "# Exibindo dados de Perda\n",
        "plt.plot(history.history['loss'])\n",
        "plt.plot(history.history['val_loss'])\n",
        "plt.title('model loss')\n",
        "plt.ylabel('loss')\n",
        "plt.xlabel('epoch')\n",
        "plt.legend(['train', 'test'], loc='upper left')\n",
        "plt.show()"
      ],
      "metadata": {
        "colab": {
          "base_uri": "https://localhost:8080/",
          "height": 1000
        },
        "id": "-kJSh48cykgc",
        "outputId": "3f72914f-c007-4b33-d669-180c45bf5a66"
      },
      "execution_count": 136,
      "outputs": [
        {
          "output_type": "display_data",
          "data": {
            "text/plain": [
              "<Figure size 432x288 with 1 Axes>"
            ],
            "image/png": "[encoded data removed]"
          },
          "metadata": {
            "needs_background": "light"
          }
        },
        {
          "output_type": "display_data",
          "data": {
            "text/plain": [
              "<Figure size 432x288 with 1 Axes>"
            ],
            "image/png": "[encoded data removed]"
          },
          "metadata": {
            "needs_background": "light"
          }
        },
        {
          "output_type": "display_data",
          "data": {
            "text/plain": [
              "<Figure size 432x288 with 1 Axes>"
            ],
            "image/png": "[encoded data removed]"
          },
          "metadata": {
            "needs_background": "light"
          }
        },
        {
          "output_type": "display_data",
          "data": {
            "text/plain": [
              "<Figure size 432x288 with 1 Axes>"
            ],
            "image/png": "[encoded data removed]"
          },
          "metadata": {
            "needs_background": "light"
          }
        }
      ]
    },
    {
      "cell_type": "markdown",
      "metadata": {
        "id": "tB3NemqyVLcJ"
      },
      "source": [
        "### 4.8.1 Conclusões sobre a abordagem adicional\n",
        "\n",
        "Como seu modelo performou em comparação com os demais modelos anteriores? Justifique sua resposta levando em consideração a arquitetura respectiva."
      ]
    },
    {
      "cell_type": "markdown",
      "metadata": {
        "id": "BU5yaKVAVLcK"
      },
      "source": [
        "**Resposta**:"
      ]
    },
    {
      "cell_type": "code",
      "execution_count": null,
      "metadata": {
        "id": "ljDX0Xc7VLcK"
      },
      "outputs": [],
      "source": [
        ""
      ]
    }
  ],
  "metadata": {
    "kernelspec": {
      "display_name": "Python 3",
      "language": "python",
      "name": "python3"
    },
    "language_info": {
      "codemirror_mode": {
        "name": "ipython",
        "version": 3
      },
      "file_extension": ".py",
      "mimetype": "text/x-python",
      "name": "python",
      "nbconvert_exporter": "python",
      "pygments_lexer": "ipython3",
      "version": "3.6.10"
    },
    "colab": {
      "name": "Copy of analise-imagens-medicas-colab.ipynb",
      "provenance": [],
      "collapsed_sections": [
        "DqQ0pXmDVLbz",
        "K0M5mturVLb0"
      ]
    },
    "accelerator": "GPU"
  },
  "nbformat": 4,
  "nbformat_minor": 0
}